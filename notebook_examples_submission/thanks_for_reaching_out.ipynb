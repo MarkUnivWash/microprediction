{
  "cells": [
    {
      "cell_type": "markdown",
      "metadata": {
        "id": "view-in-github",
        "colab_type": "text"
      },
      "source": [
        "<a href=\"https://colab.research.google.com/github/microprediction/microprediction/blob/master/notebook_examples_submission/thanks_for_reaching_out.ipynb\" target=\"_parent\"><img src=\"https://colab.research.google.com/assets/colab-badge.svg\" alt=\"Open In Colab\"/></a>"
      ]
    },
    {
      "cell_type": "code",
      "execution_count": null,
      "metadata": {
        "id": "hqlgREjcdXpn"
      },
      "outputs": [],
      "source": [
        "!pip install microprediction"
      ]
    },
    {
      "cell_type": "markdown",
      "metadata": {
        "id": "oOFdx3Aad6EW"
      },
      "source": [
        "(do restart the runtime when prompted)"
      ]
    },
    {
      "cell_type": "markdown",
      "metadata": {
        "id": "sigX0ihedZU7"
      },
      "source": [
        "# Thanks for reaching out\n",
        "\n",
        "Chances are I'm sending this as you reached out to connect to me on Linked-In. \n",
        "I don't assume that everyone reaching out wishes to support a crazy vision outlined in my [book](https://mitpress.mit.edu/9780262047326/microprediction/) and to some extent the [tldr](https://microprediction.github.io/microprediction/tldr.html) but that won't stop me mentioning it. Maybe you just want more jackass commentary on data science, or the occasional novelty in [portfolio theory](https://medium.com/geekculture/schur-complementary-portfolios-fix-hierarchical-risk-parity-28b0efa1f35f) and other things I work on in the open, when I can.  \n",
        "\n",
        "## Here's something for you, or your students\n",
        "Indeed, I've no idea what you want but:\n",
        "\n",
        "1.   Maybe you or your students want a real, live, educational challenge [here](https://www.microprediction.com/knowledge-center)\n",
        "2.   Maybe you want to benchmark a prediction algorithm [here](https://microprediction.github.io/microprediction/predict.html)\n",
        "3.   Maybe you want to discover if it is good at something you didn't expect\n",
        "4.   Maybe you just want data. Help yourself [here](https://microprediction.github.io/microprediction/data.html).\n",
        "5.   Or you want to chat with technical people in the [slack](https://microprediction.github.io/microprediction/slack.html).\n",
        "6.   Or you might even feel like contributing to open source timeseries or optimization benchmarking. \n",
        "7.   Or not. \n",
        "8.   Or maybe you want to try to sell me a stock signal, in which case you might be in luck because I can, in fact, [evaluate them](https://microprediction.github.io/microprediction/signals) in realtime. \n",
        "9.   Or you are wealthy and would like to see a prediction web really happen. DM me for my routing number. \n",
        "\n",
        "Oh yes and I'm too crystalized to want or benefit from life coaching but thanks anyway. I work for a hedge fund and we like to see what algorithms are out there that work well, and we can also consume predictions without knowing your algorithm. It isn't a zero sum game. There's almost zero cost to your algorithms helping me or mine helping you. \n",
        "\n",
        "That is why you have found yourself in a colab notebook that makes it trivial to start participating in Microprediction contests. You'll be submitting predictions to multiple [streams](https://www.microprediction.org/browse_streams.html) and who knows, you might even win the [daily prize](https://www.microprediction.com/competitions/daily).  We have an informal Google [meet](https://microprediction.github.io/microprediction/meet.html) too on Fridays at noon New York time where I'm happy to explain more. It isn't crowded most weeks so if you reached out wishing to speak to me, that's where I'll be.  \n",
        "\n",
        "## Free prediction that's actually pretty darn good\n",
        "\n",
        "Before getting down to brass tacks, I shall politely ask you if you would like free prediction offered by the little-known microprediction API and client. I mostly just use it myself to reasonable effect, as it turns out, but in keeping with the sentiment above, it's really no skin off my nose to let you use the algorithmm swarm too (please be respectful though). \n",
        "\n",
        "So yes, I can provide you free distributional prediction of anything you can measure. See the [instructions](https://microprediction.github.io/microprediction/publish.html). \n",
        "\n",
        "One day, half of all data science will be done in this collective manner, I predict, but you know that already 'cause you read the [book](https://www.amazon.com/Microprediction-Building-Open-AI-Network/dp/0262047322), right?\n",
        "\n",
        "## Get started ... don't forget to run the previous cell\n",
        "\n",
        "Anyway, I've supplied this template that both initiates you into the microprediction community and then submits some predictions on your behalf. It should explain itself as it runs, sort of. Just click those arrows in sequence. "
      ]
    },
    {
      "cell_type": "markdown",
      "metadata": {
        "id": "DZ5dVFi6gG-F"
      },
      "source": [
        "### Step 0: Supply email ... if you want\n",
        "Optional, but if you want to qualify for a cash prize, you need to add an email. "
      ]
    },
    {
      "cell_type": "code",
      "execution_count": null,
      "metadata": {
        "id": "_aExRZqwgKVJ"
      },
      "outputs": [],
      "source": [
        "EMAIL = \"pcotton@intechinvestments.com\"    # Edit\n",
        "URL = 'https://github.com/microprediction/microprediction/blob/master/notebook_examples_submission/thanks_for_reaching_out.ipynb'                                    # If you want your code to be public (how spirited) then please supply a link to the code on Github or elsewhere\n",
        "WRITE_KEY = None                              # Edit this after you run this colab notebook the first time, to update your submissions rather than creating a new WRITE_KEY"
      ]
    },
    {
      "cell_type": "markdown",
      "metadata": {
        "id": "9_iyMVqadn0e"
      },
      "source": [
        "### Step 1: Create your secret identity, then submit\n",
        "Just run this next cell and go get dinner. \n",
        "Before you run this cell again, update the WRITE_KEY above. "
      ]
    },
    {
      "cell_type": "code",
      "execution_count": null,
      "metadata": {
        "id": "O0c-UQ1kep7w"
      },
      "outputs": [],
      "source": [
        "if WRITE_KEY is None:\n",
        "  print('Creating a write key is one-off, but takes hours')\n",
        "  from microprediction import new_key\n",
        "  WRITE_KEY = new_key(difficulty=10)  # Better to use difficulty 12 actually\n",
        "\n",
        "from microprediction import MicroWriter\n",
        "mw = MicroWriter(write_key=WRITE_KEY)\n",
        "ANIMAL = mw.animal_from_key(WRITE_KEY)\n",
        "if URL:\n",
        "  mw.set_repository(url=URL) \n",
        "\n",
        "print({'private key':WRITE_KEY,'spirit animal ':ANIMAL,'url':URL})\n",
        "print('Paste your private key in the dashboard at https://www.microprediction.org/')\n",
        "\n",
        "from microprediction import MicroWriter\n",
        "from microprediction.live.xraytickers import get_xray_tickers\n",
        "from microprediction.live.xrayportfolios import XRAY_PORTFOLIO_NAMES\n",
        "import numpy as np\n",
        "from microconventions.stats_conventions import StatsConventions\n",
        "import time\n",
        "\n",
        "for speed in ['quick_','middling_','slow_']:\n",
        "    # Loop over streams and submit\n",
        "    YARX_GENERIC_NAMES = [ 'yarx_'+ticker.replace('.','-')+'.json' for ticker in get_xray_tickers() ]\n",
        "    YARX_NAMES = [ nm.replace('yarx_',speed+'yarx_') for nm in YARX_GENERIC_NAMES ]\n",
        "    XRAY_NAMES = [ nm.replace('yarx_',speed+'yarx_') for nm in XRAY_PORTFOLIO_NAMES[:10] ]\n",
        "    NAMES = YARX_NAMES + XRAY_NAMES\n",
        "    for name in NAMES:\n",
        "        lagged_values = mw.get_lagged_values(name=name)\n",
        "        padded = [-1, 0, 1 ] + list(lagged_values) + list(lagged_values[:5]) + list(lagged_values[:15])\n",
        "        devo = np.std(padded)\n",
        "        values = sorted( [ devo*mw.norminv(p) +  0.001 * np.random.randn() for p in mw.percentiles()] )\n",
        "        nudged = StatsConventions.nudged(values)\n",
        "        for delay in mw.DELAYS[-1:]:\n",
        "            mw.submit(name=name, values=values, delay=delay)\n",
        "            stream_url = 'https://www.microprediction.org/stream_dashboard.html?stream='+name.replace('.json','')+'&horizon='+str(delay)\n",
        "            print(stream_url)\n",
        "            time.sleep(1)  # <-- Out of consideration for the system\n"
      ]
    },
    {
      "cell_type": "markdown",
      "metadata": {
        "id": "FgL4OFGzh4j2"
      },
      "source": [
        "### What next?\n",
        "You can: \n",
        "\n",
        "0.   Join the [slack](https://microprediction.github.io/microprediction/slack.html) and see the stream-notifications channel to see if you win. \n",
        "1.   Move the code into a cron job and run it hourly or daily\n",
        "2.   Modify the code that creates *values* from *lagged_values* so it is smarter. \n",
        "3.   Read up on [strategy](https://www.microprediction.com/blog/lottery) and [scoring](https://www.microprediction.com/blog/intro)\n",
        "4.   Stop by some time and ask questions [here](https://microprediction.github.io/microprediction/meet.html)\n",
        "5.   Peruse [videos](https://www.microprediction.com/knowledge-center) explaining how to participate in ernest.\n",
        "6.   Visit [github/microprediction](https://github.com/microprediction)\n",
        "7.   Read the [docs](https://microprediction.github.io/microprediction/)\n"
      ]
    }
  ],
  "metadata": {
    "colab": {
      "provenance": [],
      "include_colab_link": true
    },
    "kernelspec": {
      "display_name": "Python 3",
      "name": "python3"
    },
    "language_info": {
      "name": "python"
    }
  },
  "nbformat": 4,
  "nbformat_minor": 0
}
