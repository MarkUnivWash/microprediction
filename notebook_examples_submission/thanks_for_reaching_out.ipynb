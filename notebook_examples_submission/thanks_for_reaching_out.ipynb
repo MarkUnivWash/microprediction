{
  "cells": [
    {
      "cell_type": "markdown",
      "metadata": {
        "id": "view-in-github",
        "colab_type": "text"
      },
      "source": [
        "<a href=\"https://colab.research.google.com/github/microprediction/microprediction/blob/master/notebook_examples_submission/thanks_for_reaching_out.ipynb\" target=\"_parent\"><img src=\"https://colab.research.google.com/assets/colab-badge.svg\" alt=\"Open In Colab\"/></a>"
      ]
    },
    {
      "cell_type": "code",
      "execution_count": null,
      "metadata": {
        "id": "hqlgREjcdXpn"
      },
      "outputs": [],
      "source": [
        "!pip install microprediction"
      ]
    },
    {
      "cell_type": "markdown",
      "metadata": {
        "id": "oOFdx3Aad6EW"
      },
      "source": [
        "(do restart the runtime when prompted)"
      ]
    },
    {
      "cell_type": "markdown",
      "metadata": {
        "id": "sigX0ihedZU7"
      },
      "source": [
        "# Thanks for reaching out\n",
        "\n",
        "This is my quick \"how I can and cannot help\". \n",
        "\n",
        "Forgive me if I actually know you well and this is inappropriate! \n",
        "\n",
        "### Ways I can potentially help you\n",
        " \n",
        "0.   I can provide you free, very high quality distribution prediction for any live quantity you business needs, if you are courteous. \n",
        "1.   I write open source code addressing issues in [portfolio theory](https://medium.com/geekculture/schur-complementary-portfolios-fix-hierarchical-risk-parity-28b0efa1f35f), timeseries and so on, and of course you are in my repo now. \n",
        "2.   I maintain a platform providing real, live, educational prediction challenges with [tutorials](https://www.microprediction.com/knowledge-center)\n",
        "2.   I can certainly help you benchmark a distributional univariate prediction algorithm [here](https://microprediction.github.io/microprediction/predict.html)\n",
        "4.   I can give you some timeseries data. Help yourself [here](https://microprediction.github.io/microprediction/data.html).\n",
        "5.   I can introduce you to people who know more about timeseries than me in the [slack](https://microprediction.github.io/microprediction/slack.html).\n",
        "6.   I provide scripts and tools to help choose Python prediction packages [here](https://github.com/microprediction/timemachines) and I hope you consider [contributing](https://github.com/microprediction/timemachines/blob/main/CONTRIBUTE.md) \n",
        "7.   I provide scripts and tools to help choose a derivative-free optimizer from the Python ecosystem for your bespoke task [here](https://github.com/microprediction/humpday) \n",
        "8.   I can evaluate your realtime stock signals, and potentially that might lead somewhere serious. See [instructions](https://microprediction.github.io/microprediction/signals) in realtime. \n",
        "9.   I can offer you my unsolicited views on the world of data science and machine learning at large, in my [blog](https://medium.com/@microprediction). \n",
        " \n",
        "If you are wondering why I will do this for you, it is in the book. Short version, I work for a hedge fund and need to know what's good out there, in the form of models, exogenous data and everything else. The marginal cost of helping you is virtually zero.\n",
        "\n",
        "### A bit more about 0. \n",
        "If you would like free prediction offered by the little-known microprediction API and client read on. I mostly just use it myself to reasonable effect, as it turns out, but in keeping with the sentiment above, it's really no skin off my nose to let you use the algorithmm swarm too (please be respectful though). \n",
        "To be a little more precise, I can offer you free distributional prediction of anything *you* can *measure*. See the [instructions](https://microprediction.github.io/microprediction/publish.html). \n",
        "One day, half of all data science will be done in this collective manner, I predict, but you know that already 'cause you read the [book](https://www.amazon.com/Microprediction-Building-Open-AI-Network/dp/0262047322), right?\n",
        "\n",
        "### Ways I probably can't help you\n",
        "  \n",
        "0.   I am not going to bother twisting your arm to use something I offered you for free, which [even ChatGPT can use](https://medium.com/geekculture/chatgpt-acquires-realtime-operational-intelligence-23675d2e0f3b) and appreciate, because your argument against [probably reduces to a contradiction](https://github.com/microprediction/building_an_open_ai_network/discussions/19) anyway. \n",
        "1.   I can't hire you right now, but you can email m f r a n c o@intechinvestments.com (Martha) \n",
        "2.   I can't give you money for life coaching, or enterprise DS products whose fundamental limitations are explained in my book. \n",
        "3.   I don't have time, nor permission, to direct you to the person-who-does-this-or-that at my firm. \n",
        "4.   I'm not any better than ChatGPT4 at providing generalized advice or mentoring on data science, or learning resources. \n",
        "5.   I would rather you post questions in the [slack](https://microprediction.github.io/microprediction/slack.html) so they benefit others, or can be answered by others.\n",
        "6.   I cannot necessarily provide you career advice or individual mentoring, except to learn mathematics. I am not necessarily a good influence. I am someone who works from home and makes flippant comments on LinkedIn while I wait for code to run.\n",
        "\n",
        "### Ways you can help me\n",
        "\n",
        " - Writing a review of my [book](https://mitpress.mit.edu/9780262047326/microprediction/) on Amazon, as it will help keep the dream alive.\n",
        "\n",
        "- You're also sitting in a colab notebook you can run to advance in a small way the vision therein. More on that below. Here's the [tldr](https://microprediction.github.io/microprediction/tldr.html).\n",
        "\n",
        "### Run this notebook! \n",
        "  \n",
        " You are sitting in a colab notebook that makes it trivial to start participating in Microprediction contests. You'll be submitting predictions to multiple [streams](https://www.microprediction.org/browse_streams.html) and who knows, you might even win the [daily prize](https://www.microprediction.com/competitions/daily).  We have an informal Google [meet](https://microprediction.github.io/microprediction/meet.html) too on Fridays at noon New York time where I'm happy to explain more. It isn't crowded most weeks so if you reached out wishing to speak to me, that's where I'll be.  \n",
        "\n",
        "Don't forget to run the previous cell\n",
        "\n",
        "\n"
      ]
    },
    {
      "cell_type": "markdown",
      "metadata": {
        "id": "DZ5dVFi6gG-F"
      },
      "source": [
        "### Step 0: Supply email ... if you want\n",
        "Optional, but if you want to qualify for a cash prize, you need to add an email. "
      ]
    },
    {
      "cell_type": "code",
      "execution_count": null,
      "metadata": {
        "id": "_aExRZqwgKVJ"
      },
      "outputs": [],
      "source": [
        "EMAIL = \"pcotton@intechinvestments.com\"    # Edit\n",
        "URL = 'https://github.com/microprediction/microprediction/blob/master/notebook_examples_submission/thanks_for_reaching_out.ipynb'                                    # If you want your code to be public (how spirited) then please supply a link to the code on Github or elsewhere\n",
        "WRITE_KEY = None                              # Edit this after you run this colab notebook the first time, to update your submissions rather than creating a new WRITE_KEY"
      ]
    },
    {
      "cell_type": "markdown",
      "metadata": {
        "id": "9_iyMVqadn0e"
      },
      "source": [
        "### Step 1: Create your secret identity, then submit\n",
        "Just run this next cell and go get dinner. \n",
        "Before you run this cell again, update the WRITE_KEY above. "
      ]
    },
    {
      "cell_type": "code",
      "execution_count": null,
      "metadata": {
        "id": "O0c-UQ1kep7w"
      },
      "outputs": [],
      "source": [
        "if WRITE_KEY is None:\n",
        "  print('Creating a write key is one-off, but takes hours')\n",
        "  from microprediction import new_key\n",
        "  WRITE_KEY = new_key(difficulty=10)  # Better to use difficulty 12 actually\n",
        "\n",
        "from microprediction import MicroWriter\n",
        "mw = MicroWriter(write_key=WRITE_KEY)\n",
        "ANIMAL = mw.animal_from_key(WRITE_KEY)\n",
        "if URL:\n",
        "  mw.set_repository(url=URL) \n",
        "\n",
        "print({'private key':WRITE_KEY,'spirit animal ':ANIMAL,'url':URL})\n",
        "print('Paste your private key in the dashboard at https://www.microprediction.org/')\n",
        "\n",
        "from microprediction import MicroWriter\n",
        "from microprediction.live.xraytickers import get_xray_tickers\n",
        "from microprediction.live.xrayportfolios import XRAY_PORTFOLIO_NAMES\n",
        "import numpy as np\n",
        "from microconventions.stats_conventions import StatsConventions\n",
        "import time\n",
        "\n",
        "for speed in ['quick_','middling_','slow_']:\n",
        "    # Loop over streams and submit\n",
        "    YARX_GENERIC_NAMES = [ 'yarx_'+ticker.replace('.','-')+'.json' for ticker in get_xray_tickers() ]\n",
        "    YARX_NAMES = [ nm.replace('yarx_',speed+'yarx_') for nm in YARX_GENERIC_NAMES ]\n",
        "    XRAY_NAMES = [ nm.replace('yarx_',speed+'yarx_') for nm in XRAY_PORTFOLIO_NAMES[:10] ]\n",
        "    NAMES = YARX_NAMES + XRAY_NAMES\n",
        "    for name in NAMES:\n",
        "        lagged_values = mw.get_lagged_values(name=name)\n",
        "        padded = [-1, 0, 1 ] + list(lagged_values) + list(lagged_values[:5]) + list(lagged_values[:15])\n",
        "        devo = np.std(padded)\n",
        "        values = sorted( [ devo*mw.norminv(p) +  0.001 * np.random.randn() for p in mw.percentiles()] )\n",
        "        nudged = StatsConventions.nudged(values)\n",
        "        for delay in mw.DELAYS[:1]:\n",
        "            mw.submit(name=name, values=values, delay=delay)\n",
        "            stream_url = 'https://www.microprediction.org/stream_dashboard.html?stream='+name.replace('.json','')+'&horizon='+str(delay)\n",
        "            print(stream_url)\n",
        "            time.sleep(1)  # <-- Out of consideration for the system\n"
      ]
    },
    {
      "cell_type": "markdown",
      "metadata": {
        "id": "FgL4OFGzh4j2"
      },
      "source": [
        "### What next?\n",
        "You can: \n",
        "\n",
        "0.   Join the [slack](https://microprediction.github.io/microprediction/slack.html) and see the stream-notifications channel to see if you win. \n",
        "1.   Move the code into a cron job and run it hourly or daily\n",
        "2.   Modify the code that creates *values* from *lagged_values* so it is smarter. \n",
        "3.   Read up on [strategy](https://www.microprediction.com/blog/lottery) and [scoring](https://www.microprediction.com/blog/intro)\n",
        "4.   Stop by some time and ask questions [here](https://microprediction.github.io/microprediction/meet.html)\n",
        "5.   Peruse [videos](https://www.microprediction.com/knowledge-center) explaining how to participate in ernest.\n",
        "6.   Visit [github/microprediction](https://github.com/microprediction)\n",
        "7.   Read the [docs](https://microprediction.github.io/microprediction/)\n",
        "8.   Use for delay in mw.DELAYS[-1:] so that you hit the prize streams\n"
      ]
    }
  ],
  "metadata": {
    "colab": {
      "provenance": [],
      "include_colab_link": true
    },
    "kernelspec": {
      "display_name": "Python 3",
      "name": "python3"
    },
    "language_info": {
      "name": "python"
    }
  },
  "nbformat": 4,
  "nbformat_minor": 0
}
