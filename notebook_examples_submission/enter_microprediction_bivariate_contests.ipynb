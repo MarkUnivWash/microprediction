{
  "cells": [
    {
      "cell_type": "markdown",
      "metadata": {
        "id": "view-in-github",
        "colab_type": "text"
      },
      "source": [
        "<a href=\"https://colab.research.google.com/github/microprediction/microprediction/blob/master/notebook_examples_submission/enter_microprediction_bivariate_contests.ipynb\" target=\"_parent\"><img src=\"https://colab.research.google.com/assets/colab-badge.svg\" alt=\"Open In Colab\"/></a>"
      ]
    },
    {
      "cell_type": "code",
      "execution_count": null,
      "metadata": {
        "id": "hqlgREjcdXpn"
      },
      "outputs": [],
      "source": [
        "!pip install microprediction"
      ]
    },
    {
      "cell_type": "markdown",
      "metadata": {
        "id": "oOFdx3Aad6EW"
      },
      "source": [
        "(do restart the runtime when prompted)"
      ]
    },
    {
      "cell_type": "markdown",
      "metadata": {
        "id": "sigX0ihedZU7"
      },
      "source": [
        "# So, you're interested in copulas and multivariate distributions, eh? \n",
        "\n",
        "This is a colab notebook that makes it trivial to start participating in Microprediction z2-contests, which are a novel way of arriving at a bivariate distribution. You'll be submitting predictions to multiple [streams](https://www.microprediction.org/browse_streams.html) and who knows, you might even win the [daily prize](https://www.microprediction.com/competitions/daily). \n",
        "\n",
        "Another motivation: you might accidentally discover the best benchmarking platform for forecasting models, and use it to write your next paper. Help yourself to [data](https://microprediction.github.io/microprediction/data.html), by the way, and meet other time-series folks in the [slack](https://microprediction.github.io/microprediction/slack.html). We have an informal Google [meet](https://microprediction.github.io/microprediction/meet.html) too on Fridays at noon New York time where I'm happy to explain more.  \n",
        "\n",
        "On the flip side, it's a little known fact that I can provide you free distributional prediction of anything you can measure. See the [instructions](https://microprediction.github.io/microprediction/publish.html) if you wan that. One day, half of all data science will be free or very close to it, but you know that already 'cause you read the [book](https://www.amazon.com/Microprediction-Building-Open-AI-Network/dp/0262047322), right?\n",
        "\n",
        "Anyway, I've supplied this template that both initiate you into the microprediction community (by creating your secret identity) and then submits some predictions on your behalf. It should explain itself as it runs, sort of. Just click those arrows in sequence. "
      ]
    },
    {
      "cell_type": "markdown",
      "metadata": {
        "id": "DZ5dVFi6gG-F"
      },
      "source": [
        "### Step 0: Supply email ... if you want\n",
        "Optional, but if you want to qualify for a cash prize, you need to add an email. "
      ]
    },
    {
      "cell_type": "code",
      "execution_count": 1,
      "metadata": {
        "id": "_aExRZqwgKVJ"
      },
      "outputs": [],
      "source": [
        "EMAIL = \"pcotton@intechinvestments.com\"    # Edit\n",
        "URL = 'https://github.com/microprediction/microprediction/blob/master/notebook_examples_submission/thanks_for_reaching_out.ipynb'                                    # If you want your code to be public (how spirited) then please supply a link to the code on Github or elsewhere\n",
        "WRITE_KEY = None                              # Edit this after you run this colab notebook the first time, to update your submissions rather than creating a new WRITE_KEY"
      ]
    },
    {
      "cell_type": "markdown",
      "metadata": {
        "id": "9_iyMVqadn0e"
      },
      "source": [
        "### Step 1: Create your secret identity, then submit\n",
        "Just run this next cell and go get dinner. \n",
        "Before you run this cell again, update the WRITE_KEY above. "
      ]
    },
    {
      "cell_type": "code",
      "execution_count": null,
      "metadata": {
        "id": "O0c-UQ1kep7w",
        "colab": {
          "base_uri": "https://localhost:8080/"
        },
        "outputId": "4bb49509-41ea-476c-fa67-0fdaf09dbf67"
      },
      "outputs": [
        {
          "output_type": "stream",
          "name": "stdout",
          "text": [
            "Creating a write key is one-off, but takes hours\n"
          ]
        }
      ],
      "source": [
        "if WRITE_KEY is None:\n",
        "  print('Creating a write key is one-off, but takes hours')\n",
        "  from microprediction import new_key\n",
        "  WRITE_KEY = new_key(difficulty=10)  # Better to use difficulty 12 actually\n",
        "\n",
        "from microprediction import MicroWriter\n",
        "mw = MicroWriter(write_key=WRITE_KEY)\n",
        "ANIMAL = mw.animal_from_key(WRITE_KEY)\n",
        "VERBOSE = False\n",
        "if URL:\n",
        "  mw.set_repository(url=URL) \n",
        "\n",
        "print({'private key':WRITE_KEY,'spirit animal ':ANIMAL,'url':URL})\n",
        "print('Paste your private key in the dashboard at https://www.microprediction.org/')\n",
        "\n",
        "import random\n",
        "import time\n",
        "import warnings\n",
        "warnings.filterwarnings('ignore')\n",
        "from copulas.multivariate import GaussianMultivariate\n",
        "import pandas as pd\n",
        "from microprediction import MicroWriter\n",
        "from pprint import pprint\n",
        "\n",
        "def fit_and_sample(lagged_zvalues,num:int, copula=None):\n",
        "    \"\"\" Example of fitting a copula function, and sampling\n",
        "           lagged_zvalues: [ [z1,z2,z3] ]  distributed N(0,1) margins, roughly\n",
        "           copula : Something from https://pypi.org/project/copulas/\n",
        "           returns: [ [z1, z2, z3] ]  representative sample\n",
        "    \"\"\"\n",
        "    # A placeholder for generating quasi-monte carlo samples in 2-dim based on history of lagged values\n",
        "    # Some more evenly spaced sampling would be preferable.\n",
        "    # See https://www.microprediction.com/blog/intro for discussion\n",
        "\n",
        "    df = pd.DataFrame(data=lagged_zvalues)\n",
        "    if copula is None:\n",
        "        copula = GaussianMultivariate()\n",
        "    copula.fit(df)\n",
        "    synthetic = copula.sample(num)\n",
        "    return synthetic.values.tolist()\n",
        "\n",
        "\n",
        "# List the rdps bivariate streams\n",
        "NAMES = [ n for n in mw.get_stream_names() if 'z2~' in n and 'rdps' in n ]\n",
        "for name in NAMES:\n",
        "    delay = mw.DELAYS[-1]  # Only submit for the 1hr horizon\n",
        "    lagged_zvalues = mw.get_lagged_zvalues(name=name, count= 5000)\n",
        "    if len(lagged_zvalues)>20:\n",
        "        zvalues = fit_and_sample(lagged_zvalues=lagged_zvalues, num=mw.num_predictions)\n",
        "        try:\n",
        "            res = mw.submit_zvalues(name=name, zvalues=zvalues, delay=delay )\n",
        "            if VERBOSE:\n",
        "                pprint(res)\n",
        "        except Exception as e:\n",
        "            print(e)\n",
        "        time.sleep(1)  # Out of consideration for the system\n"
      ]
    },
    {
      "cell_type": "markdown",
      "metadata": {
        "id": "FgL4OFGzh4j2"
      },
      "source": [
        "### What next?\n",
        "You can: \n",
        "\n",
        "\n",
        "1.   Move this into a cron job and run it hourly or daily\n",
        "2.   Modify the code that creates *values* from *lagged_values* so it is smarter. \n",
        "3.   Read up on [strategy](https://www.microprediction.com/blog/lottery) and [scoring](https://www.microprediction.com/blog/intro)\n",
        "4.   Stop by some time and ask questions [here](https://microprediction.github.io/microprediction/meet.html)\n",
        "\n"
      ]
    }
  ],
  "metadata": {
    "colab": {
      "provenance": [],
      "authorship_tag": "ABX9TyMc2DL99zOWr7TibDenQfht",
      "include_colab_link": true
    },
    "kernelspec": {
      "display_name": "Python 3",
      "name": "python3"
    },
    "language_info": {
      "name": "python"
    }
  },
  "nbformat": 4,
  "nbformat_minor": 0
}