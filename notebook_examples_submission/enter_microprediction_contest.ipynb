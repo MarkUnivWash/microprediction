{
  "nbformat": 4,
  "nbformat_minor": 0,
  "metadata": {
    "colab": {
      "provenance": [],
      "authorship_tag": "ABX9TyPFA9nKS1rCAsaMy1OEQeiu",
      "include_colab_link": true
    },
    "kernelspec": {
      "name": "python3",
      "display_name": "Python 3"
    },
    "language_info": {
      "name": "python"
    }
  },
  "cells": [
    {
      "cell_type": "markdown",
      "metadata": {
        "id": "view-in-github",
        "colab_type": "text"
      },
      "source": [
        "<a href=\"https://colab.research.google.com/github/microprediction/microprediction/blob/master/notebook_examples_submission/enter_microprediction_contest.ipynb\" target=\"_parent\"><img src=\"https://colab.research.google.com/assets/colab-badge.svg\" alt=\"Open In Colab\"/></a>"
      ]
    },
    {
      "cell_type": "code",
      "execution_count": null,
      "metadata": {
        "id": "hqlgREjcdXpn"
      },
      "outputs": [],
      "source": [
        "!pip install microprediction"
      ]
    },
    {
      "cell_type": "markdown",
      "source": [
        "(do restart the runtime when prompted)"
      ],
      "metadata": {
        "id": "oOFdx3Aad6EW"
      }
    },
    {
      "cell_type": "markdown",
      "source": [
        "# Enter the microprediction contest\n",
        " ... just by running this notebook and predicting the distribution of future stock price changes. "
      ],
      "metadata": {
        "id": "sigX0ihedZU7"
      }
    },
    {
      "cell_type": "markdown",
      "source": [
        "### Step 0: Supply email\n",
        "Optional, but if you want to qualify for a cash prize, you need to add an email. "
      ],
      "metadata": {
        "id": "DZ5dVFi6gG-F"
      }
    },
    {
      "cell_type": "code",
      "source": [
        "EMAIL = \"peter.cotton@microprediction.com\"    # Edit\n",
        "URL = None                                    # If you want your code to be public (how spirited) then please supply a link to the code on Github or elsewhere\n",
        "WRITE_KEY = None                              # Edit this after you run this colab notebook the first time, to update your submissions rather than creating a new WRITE_KEY"
      ],
      "metadata": {
        "id": "_aExRZqwgKVJ"
      },
      "execution_count": 3,
      "outputs": []
    },
    {
      "cell_type": "markdown",
      "source": [
        "### Step 1: Create your secrete identity, then submit\n",
        "Just run the whole cell and go get dinner. \n",
        "Before you run this cell again, update the WRITE_KEY above. "
      ],
      "metadata": {
        "id": "9_iyMVqadn0e"
      }
    },
    {
      "cell_type": "code",
      "source": [
        "if WRITE_KEY is None:\n",
        "  print('Creating a write key is one-off, but takes hours')\n",
        "  from microprediction import new_key\n",
        "  WRITE_KEY = new_key(difficulty=12)\n",
        "\n",
        "mw = MicroWriter(write_key=WRITE_KEY)\n",
        "ANIMAL = mw.animal_from_key(WRITE_KEY)\n",
        "if URL:\n",
        "  mw.set_repository(url=URL) \n",
        "\n",
        "print({'private key':WRITE_KEY,'spirit animal ':ANIMAL,'url':URL})\n",
        "print('Paste your private key in the dashboard at https://www.microprediction.org/')\n",
        "\n",
        "from microprediction import MicroWriter\n",
        "from microprediction.live.xraytickers import get_xray_tickers\n",
        "from microprediction.live.xrayportfolios import XRAY_PORTFOLIO_NAMES\n",
        "import numpy as np\n",
        "from microconventions.stats_conventions import StatsConventions\n",
        "import time\n",
        "\n",
        "for speed in ['quick_','middling_','slow_']:\n",
        "    # Loop over streams and submit\n",
        "    YARX_GENERIC_NAMES = [ 'yarx_'+ticker.replace('.','-')+'.json' for ticker in get_xray_tickers() ]\n",
        "    YARX_NAMES = [ nm.replace('yarx_',speed+'yarx_') for nm in YARX_GENERIC_NAMES ]\n",
        "    XRAY_NAMES = [ nm.replace('yarx_',speed+'yarx_') for nm in XRAY_PORTFOLIO_NAMES[:10] ]\n",
        "    NAMES = YARX_NAMES + XRAY_NAMES\n",
        "    for name in NAMES:\n",
        "        lagged_values = mw.get_lagged_values(name=name)\n",
        "        padded = [-1, 0, 1 ] + list(lagged_values) + list(lagged_values[:5]) + list(lagged_values[:15])\n",
        "        devo = np.std(padded)\n",
        "        values = sorted( [ devo*mw.norminv(p) +  0.001 * np.random.randn() for p in mw.percentiles()] )\n",
        "        nudged = StatsConventions.nudged(values)\n",
        "        for delay in mw.DELAYS[-1:]:\n",
        "            mw.submit(name=name, values=values, delay=delay)\n",
        "            stream_url = 'https://www.microprediction.org/stream_dashboard.html?stream='+name.replace('.json','')+'&horizon='+str(delay)\n",
        "            print(stream_url)\n",
        "            time.sleep(1)  # <-- Out of consideration for the system\n"
      ],
      "metadata": {
        "colab": {
          "base_uri": "https://localhost:8080/"
        },
        "id": "O0c-UQ1kep7w",
        "outputId": "c5b78206-8918-4248-c2a7-c4f5842b7ca4"
      },
      "execution_count": null,
      "outputs": [
        {
          "output_type": "stream",
          "name": "stdout",
          "text": [
            "Creating a write key is one-off, but takes hours\n"
          ]
        }
      ]
    },
    {
      "cell_type": "markdown",
      "source": [
        "### What next?\n",
        "You can: \n",
        "\n",
        "\n",
        "1.   Move this into a cron job and run it hourly or daily\n",
        "2.   Modify the code that creates *values* from *lagged_values* so it is smarter. \n",
        "3.   Read up on [strategy](https://www.microprediction.com/blog/lottery) and [scoring](https://www.microprediction.com/blog/intro)\n",
        "4.   Stop by some time and ask questions [here](https://microprediction.github.io/microprediction/meet.html)\n",
        "\n"
      ],
      "metadata": {
        "id": "FgL4OFGzh4j2"
      }
    }
  ]
}