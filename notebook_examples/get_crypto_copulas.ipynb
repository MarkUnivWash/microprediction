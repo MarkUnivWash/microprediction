{
  "nbformat": 4,
  "nbformat_minor": 0,
  "metadata": {
    "colab": {
      "name": "get_crypto_copulas.ipynb",
      "provenance": [],
      "authorship_tag": "ABX9TyPHCUEMByYo2bhJqNuybNOl",
      "include_colab_link": true
    },
    "kernelspec": {
      "name": "python3",
      "display_name": "Python 3"
    },
    "language_info": {
      "name": "python"
    }
  },
  "cells": [
    {
      "cell_type": "markdown",
      "metadata": {
        "id": "view-in-github",
        "colab_type": "text"
      },
      "source": [
        "<a href=\"https://colab.research.google.com/github/microprediction/microprediction/blob/master/notebook_examples/get_crypto_copulas.ipynb\" target=\"_parent\"><img src=\"https://colab.research.google.com/assets/colab-badge.svg\" alt=\"Open In Colab\"/></a>"
      ]
    },
    {
      "cell_type": "code",
      "metadata": {
        "id": "44d_EWas8VPk"
      },
      "source": [
        "!pip uninstall numpy -y\n",
        "!pip install microprediction"
      ],
      "execution_count": null,
      "outputs": []
    },
    {
      "cell_type": "markdown",
      "metadata": {
        "id": "MzvgObxd8p4N"
      },
      "source": [
        "\n",
        "Illustrates copulas and some of the [conventions](https://github.com/microprediction/microconventions/blob/master/microconventions/zcurve_conventions.py) used. First let's list all the crypto copula streams"
      ]
    },
    {
      "cell_type": "code",
      "metadata": {
        "colab": {
          "base_uri": "https://localhost:8080/"
        },
        "id": "u9IBtHma8euP",
        "outputId": "886c475e-7bc4-4cc0-f4fe-adbe3b2a4183"
      },
      "source": [
        "from microprediction import MicroReader\n",
        "from pprint import pprint \n",
        "\n",
        "DELAY = 3555 # Roughly one hour ahead\n",
        "mr = MicroReader()\n",
        "c5_names = ['c5_bitcoin.json','c5_ethereum.json','c5_iota.json','c5_cardano.json','c5_ripple.json']\n",
        "import itertools\n",
        "c5_triples = list()\n",
        "for L in range(0, len(c5_names)+1):\n",
        "    for subset in itertools.combinations(c5_names, L):\n",
        "        if len(subset)==3:\n",
        "           z3_name = mr.zcurve_name(names=subset, delay=DELAY)\n",
        "           c5_triples.append(z3_name)\n",
        "pprint(c5_triples)"
      ],
      "execution_count": 3,
      "outputs": [
        {
          "output_type": "stream",
          "name": "stdout",
          "text": [
            "['z3~c5_bitcoin~c5_ethereum~c5_iota~3555.json',\n",
            " 'z3~c5_bitcoin~c5_cardano~c5_ethereum~3555.json',\n",
            " 'z3~c5_bitcoin~c5_ethereum~c5_ripple~3555.json',\n",
            " 'z3~c5_bitcoin~c5_cardano~c5_iota~3555.json',\n",
            " 'z3~c5_bitcoin~c5_iota~c5_ripple~3555.json',\n",
            " 'z3~c5_bitcoin~c5_cardano~c5_ripple~3555.json',\n",
            " 'z3~c5_cardano~c5_ethereum~c5_iota~3555.json',\n",
            " 'z3~c5_ethereum~c5_iota~c5_ripple~3555.json',\n",
            " 'z3~c5_cardano~c5_ethereum~c5_ripple~3555.json',\n",
            " 'z3~c5_cardano~c5_iota~c5_ripple~3555.json']\n"
          ]
        }
      ]
    },
    {
      "cell_type": "markdown",
      "metadata": {
        "id": "dvqazG2V-W8Y"
      },
      "source": [
        "Lagged values..."
      ]
    },
    {
      "cell_type": "code",
      "metadata": {
        "id": "FFuWJgvj-ZUu"
      },
      "source": [
        "all_lagged_values = dict( [ (name,mr.get_lagged_copulas(name=name)) for name in c5_triples])\n"
      ],
      "execution_count": 6,
      "outputs": []
    },
    {
      "cell_type": "code",
      "metadata": {
        "colab": {
          "base_uri": "https://localhost:8080/"
        },
        "id": "PrCicrWE_Hpk",
        "outputId": "77dc68c1-ed12-48bb-efbc-1ca9318d4b40"
      },
      "source": [
        "all_lagged_values['z3~c5_bitcoin~c5_cardano~c5_ethereum~3555.json'][:5]"
      ],
      "execution_count": 9,
      "outputs": [
        {
          "output_type": "execute_result",
          "data": {
            "text/plain": [
              "[[0.2216796875, 0.1826171875, 0.5029296875],\n",
              " [0.142578125, 0.330078125, 0.5048828125],\n",
              " [0.4365234375, 0.673828125, 0.49609375],\n",
              " [0.5703125, 0.7744140625, 0.4931640625],\n",
              " [0.7314453125, 0.8193359375, 0.490234375]]"
            ]
          },
          "metadata": {},
          "execution_count": 9
        }
      ]
    }
  ]
}
