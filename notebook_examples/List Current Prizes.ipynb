{
  "nbformat": 4,
  "nbformat_minor": 0,
  "metadata": {
    "colab": {
      "name": "prizes.ipynb",
      "provenance": [],
      "authorship_tag": "ABX9TyMl3xqJvckbL7wq8heiACJt",
      "include_colab_link": true
    },
    "kernelspec": {
      "name": "python3",
      "display_name": "Python 3"
    }
  },
  "cells": [
    {
      "cell_type": "markdown",
      "metadata": {
        "id": "view-in-github",
        "colab_type": "text"
      },
      "source": [
        "<a href=\"https://colab.research.google.com/github/microprediction/microprediction/blob/master/notebook_examples/List%20Current%20Prizes.ipynb\" target=\"_parent\"><img src=\"https://colab.research.google.com/assets/colab-badge.svg\" alt=\"Open In Colab\"/></a>"
      ]
    },
    {
      "cell_type": "code",
      "metadata": {
        "id": "HPkKnBAIroLw"
      },
      "source": [
        "!pip install microprediction"
      ],
      "execution_count": null,
      "outputs": []
    },
    {
      "cell_type": "markdown",
      "metadata": {
        "id": "-iiBACMSsH0l"
      },
      "source": [
        "# List current competitions and prizes \n",
        "Here are the current contest sponsors and budgeted prizes that extend several months. This may underestimate the total prizes if they roll forward. "
      ]
    },
    {
      "cell_type": "code",
      "metadata": {
        "id": "fNs6V90ar1Da",
        "outputId": "27aa4fd7-2bbb-4563-a23c-fde202cc7a3e",
        "colab": {
          "base_uri": "https://localhost:8080/"
        }
      },
      "source": [
        "from microprediction import MicroReader\n",
        "mr = MicroReader()\n",
        "from pprint import pprint \n",
        "prize_listing = mr.get_prizes()\n",
        "pprint(prize_listing)"
      ],
      "execution_count": 5,
      "outputs": [
        {
          "output_type": "stream",
          "name": "stdout",
          "text": [
            "[{'amount': 36000,\n",
            "  'article': 'https://www.microprediction.com/competitions/crypto',\n",
            "  'description': 'Predict the distribution of cryptocurrency movements, and '\n",
            "                 'implied copulas.',\n",
            "  'sponsor': 'e3b1055033076108b4279c473cde3a67',\n",
            "  'type': 'regular'},\n",
            " {'amount': 6000,\n",
            "  'article': 'https://www.microprediction.com/competitions/crypto',\n",
            "  'description': 'Predict the distribution of cryptocurrency movements, and '\n",
            "                 'implied copulas.',\n",
            "  'sponsor': 'e3b1055033076108b4279c473cde3a67',\n",
            "  'type': 'bivariate'},\n",
            " {'amount': 6000,\n",
            "  'article': 'https://www.microprediction.com/competitions/crypto',\n",
            "  'description': 'Predict the distribution of cryptocurrency movements, and '\n",
            "                 'implied copulas.',\n",
            "  'sponsor': 'e3b1055033076108b4279c473cde3a67',\n",
            "  'type': 'trivariate'},\n",
            " {'amount': 5000,\n",
            "  'article': 'https://www.microprediction.com/competitions/electricity',\n",
            "  'description': 'Predict electricity in the North East',\n",
            "  'sponsor': '0ffca579005ef5d8757270f007c4db76',\n",
            "  'type': 'regular'}]\n"
          ]
        }
      ]
    },
    {
      "cell_type": "markdown",
      "source": [
        "# Get a list of all streams and sponsors\n",
        "Looks up the [sponsor list](https://api.microprediction.org/sponsors/), but note that this will include all streams whether or not they count"
      ],
      "metadata": {
        "id": "FJxf3JdEX5xi"
      }
    },
    {
      "cell_type": "code",
      "metadata": {
        "id": "GOUpaSvmsGpK"
      },
      "source": [
        "streams_and_sponsors = mr.get_sponsors()\n",
        "sponsors_and_streams = dict( [ (prize['sponsor'], [ name for name, animal in streams_and_sponsors.items() if animal==mr.animal_from_code(prize['sponsor'] ) ]) for prize in prize_listing ])"
      ],
      "execution_count": 14,
      "outputs": []
    },
    {
      "cell_type": "markdown",
      "source": [
        "### Get streams associated with sponsoring animal\n",
        "(Warning this API may change in the future to return code, not animal)"
      ],
      "metadata": {
        "id": "HhMAABTAa8KA"
      }
    },
    {
      "cell_type": "code",
      "source": [
        "# Get specific sponor's regular streams\n",
        "print( [ name for name, animal in streams_and_sponsors.items() if animal=='Fathom Gazelle' and '~' not in name] )"
      ],
      "metadata": {
        "id": "x7AgdAmbalBf",
        "outputId": "a8d4a554-6e2a-4e4b-94e3-201570ae2edb",
        "colab": {
          "base_uri": "https://localhost:8080/"
        }
      },
      "execution_count": 13,
      "outputs": [
        {
          "output_type": "stream",
          "name": "stdout",
          "text": [
            "['portfolio_c2_55.json', 'portfolio_c2_5.json', 'portfolio_c2_10.json', 'portfolio_c2_50.json', 'portfolio_c2_80.json', 'portfolio_c2_25.json', 'portfolio_c2_60.json', 'portfolio_c2_85.json', 'portfolio_c2_75.json', 'portfolio_c2_90.json', 'portfolio_c2_65.json', 'portfolio_c2_35.json', 'portfolio_c2_45.json', 'portfolio_c2_40.json', 'portfolio_c2_30.json', 'portfolio_c2_0.json', 'portfolio_c2_70.json', 'portfolio_c2_20.json', 'portfolio_c2_100.json', 'portfolio_c2_15.json', 'portfolio_c2_95.json']\n"
          ]
        }
      ]
    },
    {
      "cell_type": "code",
      "source": [
        "# Get specific sponsor's z2 streams\n",
        "print( [ name for name, animal in streams_and_sponsors.items() if animal=='Emblossom Moth' and 'z2~' in name] )"
      ],
      "metadata": {
        "id": "AThMH-k8cAOI",
        "outputId": "4ec39fa6-9921-4b8a-cf94-240100ba1b10",
        "colab": {
          "base_uri": "https://localhost:8080/"
        }
      },
      "execution_count": 17,
      "outputs": [
        {
          "output_type": "stream",
          "name": "stdout",
          "text": [
            "['z2~btc_aud~btc_eur~3555.json', 'z2~btc_eur~btc_usd~70.json', 'z2~c5_cardano~c5_tether~70.json', 'z2~c5_bitcoin~c5_ethereum~70.json', 'z2~c5_solana~c5_tether~70.json', 'z2~btc_aud~btc_usd~70.json', 'z2~c5_bitcoin~c5_ethereum~3555.json', 'z2~c5_ethereum~c5_solana~70.json', 'z2~btc_aud~btc_eur~70.json', 'z2~c5_ethereum~c5_tether~70.json', 'z2~c5_solana~c5_tether~3555.json', 'z2~c5_cardano~c5_tether~3555.json', 'z2~c5_bitcoin~c5_solana~3555.json', 'z2~c5_bitcoin~c5_tether~70.json', 'z2~c5_cardano~c5_solana~3555.json', 'z2~c5_bitcoin~c5_cardano~70.json', 'z2~c5_cardano~c5_ethereum~3555.json', 'z2~c2_bitcoin~c2_ethereum~70.json', 'z2~c5_ethereum~c5_solana~3555.json', 'z2~c5_cardano~c5_solana~70.json', 'z2~btc_aud~btc_usd~3555.json', 'z2~c2_bitcoin~c2_ethereum~3555.json', 'z2~c5_ethereum~c5_tether~3555.json', 'z2~c5_cardano~c5_ethereum~70.json', 'z2~c5_bitcoin~c5_tether~3555.json', 'z2~c5_bitcoin~c5_cardano~3555.json', 'z2~c5_bitcoin~c5_solana~70.json', 'z2~btc_eur~btc_usd~3555.json']\n"
          ]
        }
      ]
    }
  ]
}