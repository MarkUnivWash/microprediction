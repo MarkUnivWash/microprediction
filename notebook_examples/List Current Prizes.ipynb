{
  "nbformat": 4,
  "nbformat_minor": 0,
  "metadata": {
    "colab": {
      "name": "prizes.ipynb",
      "provenance": [],
      "authorship_tag": "ABX9TyMl3xqJvckbL7wq8heiACJt",
      "include_colab_link": true
    },
    "kernelspec": {
      "name": "python3",
      "display_name": "Python 3"
    }
  },
  "cells": [
    {
      "cell_type": "markdown",
      "metadata": {
        "id": "view-in-github",
        "colab_type": "text"
      },
      "source": [
        "<a href=\"https://colab.research.google.com/github/microprediction/microprediction/blob/master/notebook_examples/List%20Current%20Prizes.ipynb\" target=\"_parent\"><img src=\"https://colab.research.google.com/assets/colab-badge.svg\" alt=\"Open In Colab\"/></a>"
      ]
    },
    {
      "cell_type": "code",
      "metadata": {
        "id": "HPkKnBAIroLw"
      },
      "source": [
        "!pip install microprediction"
      ],
      "execution_count": null,
      "outputs": []
    },
    {
      "cell_type": "markdown",
      "metadata": {
        "id": "-iiBACMSsH0l"
      },
      "source": [
        "# List current competitions and prizes \n",
        "Here are the current contest sponsors and budgeted prizes that extend several months. This may underestimate the total prizes if they roll forward. "
      ]
    },
    {
      "cell_type": "code",
      "metadata": {
        "id": "fNs6V90ar1Da",
        "outputId": "b3a2d0f3-adc4-4a17-b8be-1602af0622a9",
        "colab": {
          "base_uri": "https://localhost:8080/"
        }
      },
      "source": [
        "from microprediction import MicroReader\n",
        "mr = MicroReader()\n",
        "from pprint import pprint \n",
        "prize_listing = mr.get_prizes()\n",
        "pprint(prize_listing)"
      ],
      "execution_count": 3,
      "outputs": [
        {
          "output_type": "stream",
          "name": "stdout",
          "text": [
            "[{'amount': 1000,\n",
            "  'article': 'https://www.microprediction.com/competitions/crypto',\n",
            "  'description': 'Predict the distribution of cryptocurrency movements, and '\n",
            "                 'implied copulas.',\n",
            "  'sponsor': 'e3b1055033076108b4279c473cde3a67',\n",
            "  'type': 'regular'},\n",
            " {'amount': 1000,\n",
            "  'article': 'https://www.microprediction.com/competitions/crypto',\n",
            "  'description': 'Predict the distribution of cryptocurrency movements, and '\n",
            "                 'implied copulas.',\n",
            "  'sponsor': 'e3b1055033076108b4279c473cde3a67',\n",
            "  'type': 'bivariate'},\n",
            " {'amount': 1000,\n",
            "  'article': 'https://www.microprediction.com/competitions/crypto',\n",
            "  'description': 'Predict the distribution of cryptocurrency movements, and '\n",
            "                 'implied copulas.',\n",
            "  'sponsor': 'e3b1055033076108b4279c473cde3a67',\n",
            "  'type': 'trivariate'},\n",
            " {'amount': 3000,\n",
            "  'article': 'https://www.microprediction.com/competitions/electricity',\n",
            "  'description': 'Predict electricity in the North East',\n",
            "  'sponsor': '0ffca579005ef5d8757270f007c4db76',\n",
            "  'type': 'regular'},\n",
            " {'amount': 34000,\n",
            "  'article': 'https://www.microprediction.com/competitions/crypto',\n",
            "  'description': 'Predict cryptocurrency portfolio returns, quadratic '\n",
            "                 'variation, excess returns and more',\n",
            "  'sponsor': 'fa76039a2e11ed1f7d5d2cfef240455d',\n",
            "  'type': 'regular'}]\n"
          ]
        }
      ]
    },
    {
      "cell_type": "markdown",
      "source": [
        "# Get a list of all streams and sponsors\n",
        "Looks up the [sponsor list](https://api.microprediction.org/sponsors/), but note that this will include all streams whether or not they count"
      ],
      "metadata": {
        "id": "FJxf3JdEX5xi"
      }
    },
    {
      "cell_type": "code",
      "metadata": {
        "id": "GOUpaSvmsGpK"
      },
      "source": [
        "streams_and_sponsors = mr.get_sponsors()\n",
        "sponsors_and_streams = dict( [ (prize['sponsor'], [ name for name, animal in streams_and_sponsors.items() if animal==mr.animal_from_code(prize['sponsor'] ) ]) for prize in prize_listing ])"
      ],
      "execution_count": 4,
      "outputs": []
    },
    {
      "cell_type": "markdown",
      "source": [
        "### Get streams associated with sponsoring animal\n",
        "(Warning this API may change in the future to return code, not animal)"
      ],
      "metadata": {
        "id": "HhMAABTAa8KA"
      }
    },
    {
      "cell_type": "code",
      "source": [
        "# Get specific sponor's regular streams\n",
        "print( [ name for name, animal in streams_and_sponsors.items() if animal=='Fathom Gazelle' and '~' not in name] )"
      ],
      "metadata": {
        "id": "x7AgdAmbalBf",
        "outputId": "b386715a-982e-4494-ad48-2410cf2e308c",
        "colab": {
          "base_uri": "https://localhost:8080/"
        }
      },
      "execution_count": 5,
      "outputs": [
        {
          "output_type": "stream",
          "name": "stdout",
          "text": [
            "['portfolio_c2_40_rel.json', 'portfolio_c2_60_std.json', 'quadratic_c2_bitcoin_ethereum.json', 'portfolio_c2_95_std.json', 'portfolio_c2_55.json', 'portfolio_c2_35_expected.json', 'portfolio_c2_10_info.json', 'portfolio_c2_15_diff.json', 'portfolio_c2_90_expected.json', 'portfolio_c2_20_diff.json', 'portfolio_c2_50_std.json', 'portfolio_c2_5.json', 'portfolio_c2_30_rel.json', 'portfolio_c2_5_rel.json', 'portfolio_c2_70_std.json', 'portfolio_c2_40_expected.json', 'portfolio_c2_0_info.json', 'portfolio_c2_85_rel.json', 'portfolio_c2_20_expected.json', 'quadratic_c2_ethereum_ethereum_expected.json', 'portfolio_c2_10.json', 'portfolio_c2_10_rel.json', 'portfolio_c2_50_diff.json', 'portfolio_c2_15_rel.json', 'portfolio_c2_35_info.json', 'portfolio_c2_65_std.json', 'portfolio_c2_55_rel.json', 'portfolio_c2_50_rel.json', 'portfolio_c2_50_info.json', 'portfolio_c2_75_info.json', 'portfolio_c2_50_expected.json', 'portfolio_c2_95_diff.json', 'portfolio_c2_15_info.json', 'forecast_c2_ethereum_ethereum.json', 'portfolio_c2_100_std.json', 'portfolio_c2_75_std.json', 'portfolio_c2_50.json', 'portfolio_c2_95_expected.json', 'portfolio_c2_90_diff.json', 'portfolio_c2_25_rel.json', 'portfolio_c2_35_std.json', 'portfolio_c2_80.json', 'best_c2.json', 'portfolio_c2_85_diff.json', 'portfolio_c2_45_rel.json', 'portfolio_c2_25.json', 'portfolio_c2_20_info.json', 'portfolio_c2_40_std.json', 'portfolio_c2_100_diff.json', 'portfolio_c2_70_info.json', 'portfolio_c2_60.json', 'portfolio_c2_20_rel.json', 'portfolio_c2_15_std.json', 'normalized_c2_ethereum_ethereum.json', 'portfolio_c2_75_diff.json', 'portfolio_c2_85.json', 'portfolio_c2_75.json', 'portfolio_c2_80_info.json', 'portfolio_c2_60_diff.json', 'normalized_c2_bitcoin_bitcoin.json', 'portfolio_c2_60_rel.json', 'portfolio_c2_65_expected.json', 'portfolio_c2_55_info.json', 'portfolio_c2_85_expected.json', 'portfolio_c2_65_rel.json', 'portfolio_c2_20_std.json', 'portfolio_c2_30_diff.json', 'portfolio_c2_90.json', 'portfolio_c2_5_info.json', 'portfolio_c2_75_rel.json', 'portfolio_c2_65.json', 'portfolio_c2_5_std.json', 'quadratic_c2_bitcoin_bitcoin_rel.json', 'portfolio_c2_5_expected.json', 'portfolio_c2_25_std.json', 'portfolio_c2_60_info.json', 'portfolio_c2_35.json', 'quadratic_c2_bitcoin_ethereum_expected.json', 'quadratic_c2_ethereum_ethereum.json', 'portfolio_c2_40_diff.json', 'portfolio_c2_45.json', 'portfolio_c2_80_std.json', 'portfolio_c2_10_expected.json', 'portfolio_c2_25_expected.json', 'portfolio_c2_85_std.json', 'portfolio_c2_15_expected.json', 'portfolio_c2_70_rel.json', 'quadratic_c2_bitcoin_bitcoin.json', 'portfolio_c2_45_std.json', 'portfolio_c2_40.json', 'portfolio_c2_25_diff.json', 'portfolio_c2_80_diff.json', 'portfolio_c2_30.json', 'portfolio_c2_65_info.json', 'portfolio_c2_65_diff.json', 'portfolio_c2_80_expected.json', 'quadratic_c2_bitcoin_bitcoin_expected.json', 'portfolio_c2_0.json', 'portfolio_c2_60_expected.json', 'portfolio_c2_70.json', 'portfolio_c2_45_info.json', 'portfolio_c2_30_std.json', 'portfolio_c2_5_diff.json', 'portfolio_c2_0_rel.json', 'portfolio_c2_90_rel.json', 'portfolio_c2_40_info.json', 'quadratic_c2_bitcoin_ethereum_rel.json', 'portfolio_c2_0_expected.json', 'forecast_c2_bitcoin_ethereum.json', 'portfolio_c2_70_expected.json', 'portfolio_c2_0_std.json', 'portfolio_c2_35_rel.json', 'portfolio_c2_85_info.json', 'portfolio_c2_35_diff.json', 'portfolio_c2_45_diff.json', 'portfolio_c2_95_info.json', 'portfolio_c2_10_diff.json', 'portfolio_c2_55_expected.json', 'portfolio_c2_25_info.json', 'portfolio_c2_75_expected.json', 'percent_c2_bitcoin.json', 'portfolio_c2_90_std.json', 'portfolio_c2_95_rel.json', 'percent_c2_ethereum.json', 'portfolio_c2_20.json', 'forecast_c2_bitcoin_bitcoin.json', 'portfolio_c2_80_rel.json', 'portfolio_c2_30_expected.json', 'portfolio_c2_100_info.json', 'portfolio_c2_30_info.json', 'portfolio_c2_70_diff.json', 'portfolio_c2_100.json', 'portfolio_c2_45_expected.json', 'normalized_c2_bitcoin_ethereum.json', 'portfolio_c2_0_diff.json', 'portfolio_c2_10_std.json', 'portfolio_c2_15.json', 'portfolio_c2_100_expected.json', 'portfolio_c2_55_diff.json', 'portfolio_c2_55_std.json', 'quadratic_c2_ethereum_ethereum_rel.json', 'portfolio_c2_90_info.json', 'portfolio_c2_95.json', 'portfolio_c2_100_rel.json']\n"
          ]
        }
      ]
    },
    {
      "cell_type": "code",
      "source": [
        "# Get specific sponsor's z2 streams\n",
        "print( [ name for name, animal in streams_and_sponsors.items() if animal=='Emblossom Moth' and 'z2~' in name] )"
      ],
      "metadata": {
        "id": "AThMH-k8cAOI",
        "outputId": "55948338-133e-485a-feef-f7e72840e2cf",
        "colab": {
          "base_uri": "https://localhost:8080/"
        }
      },
      "execution_count": 6,
      "outputs": [
        {
          "output_type": "stream",
          "name": "stdout",
          "text": [
            "['z2~btc_aud~btc_eur~3555.json', 'z2~btc_eur~btc_usd~70.json', 'z2~c5_cardano~c5_tether~70.json', 'z2~c5_bitcoin~c5_ethereum~70.json', 'z2~c5_solana~c5_tether~70.json', 'z2~btc_aud~btc_usd~70.json', 'z2~c5_bitcoin~c5_ethereum~3555.json', 'z2~c5_ethereum~c5_solana~70.json', 'z2~btc_aud~btc_eur~70.json', 'z2~c5_ethereum~c5_tether~70.json', 'z2~c5_solana~c5_tether~3555.json', 'z2~c5_cardano~c5_tether~3555.json', 'z2~c5_bitcoin~c5_solana~3555.json', 'z2~c5_bitcoin~c5_tether~70.json', 'z2~c5_cardano~c5_solana~3555.json', 'z2~c5_bitcoin~c5_cardano~70.json', 'z2~c5_cardano~c5_ethereum~3555.json', 'z2~c2_bitcoin~c2_ethereum~70.json', 'z2~c5_ethereum~c5_solana~3555.json', 'z2~c5_cardano~c5_solana~70.json', 'z2~btc_aud~btc_usd~3555.json', 'z2~c2_bitcoin~c2_ethereum~3555.json', 'z2~c5_ethereum~c5_tether~3555.json', 'z2~c5_cardano~c5_ethereum~70.json', 'z2~c5_bitcoin~c5_tether~3555.json', 'z2~c5_bitcoin~c5_cardano~3555.json', 'z2~c5_bitcoin~c5_solana~70.json', 'z2~btc_eur~btc_usd~3555.json']\n"
          ]
        }
      ]
    }
  ]
}