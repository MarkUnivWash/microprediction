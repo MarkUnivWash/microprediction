{
  "nbformat": 4,
  "nbformat_minor": 0,
  "metadata": {
    "colab": {
      "name": "prizes.ipynb",
      "provenance": [],
      "authorship_tag": "ABX9TyNk6ghVUVMAfqoFtGRdecEr",
      "include_colab_link": true
    },
    "kernelspec": {
      "name": "python3",
      "display_name": "Python 3"
    }
  },
  "cells": [
    {
      "cell_type": "markdown",
      "metadata": {
        "id": "view-in-github",
        "colab_type": "text"
      },
      "source": [
        "<a href=\"https://colab.research.google.com/github/microprediction/microprediction/blob/master/notebook_examples/List%20Current%20Prizes.ipynb\" target=\"_parent\"><img src=\"https://colab.research.google.com/assets/colab-badge.svg\" alt=\"Open In Colab\"/></a>"
      ]
    },
    {
      "cell_type": "code",
      "metadata": {
        "id": "HPkKnBAIroLw"
      },
      "source": [
        "!pip install microprediction"
      ],
      "execution_count": null,
      "outputs": []
    },
    {
      "cell_type": "markdown",
      "metadata": {
        "id": "-iiBACMSsH0l"
      },
      "source": [
        "Here are the current contest sponsors and budgeted prizes that extend several months. This may underestimate the total prizes if they roll forward. "
      ]
    },
    {
      "cell_type": "code",
      "metadata": {
        "id": "fNs6V90ar1Da",
        "outputId": "cb10a2d4-cc8c-44b2-b84c-a62cd19482b8",
        "colab": {
          "base_uri": "https://localhost:8080/",
          "height": 416
        }
      },
      "source": [
        "from microprediction import MicroReader\n",
        "print(MicroReader().get_prizes())\n",
        "\n"
      ],
      "execution_count": null,
      "outputs": [
        {
          "output_type": "stream",
          "text": [
            "[{'amount': 5000,\n",
            "  'article': 'https://www.microprediction.com/competitions/crypto',\n",
            "  'description': 'Predict the distribution of cryptocurrency movements, and '\n",
            "                 'implied copulas.',\n",
            "  'sponsor': 'e3b1055033076108b4279c473cde3a67',\n",
            "  'type': 'regular'},\n",
            " {'amount': 2500,\n",
            "  'article': 'https://www.microprediction.com/competitions/crypto',\n",
            "  'description': 'Predict the distribution of cryptocurrency movements, and '\n",
            "                 'implied copulas.',\n",
            "  'sponsor': 'e3b1055033076108b4279c473cde3a67',\n",
            "  'type': 'bivariate'},\n",
            " {'amount': 2500,\n",
            "  'article': 'https://www.microprediction.com/competitions/crypto',\n",
            "  'description': 'Predict the distribution of cryptocurrency movements, and '\n",
            "                 'implied copulas.',\n",
            "  'sponsor': 'e3b1055033076108b4279c473cde3a67',\n",
            "  'type': 'trivariate'},\n",
            " {'amount': 5000,\n",
            "  'article': 'https://www.microprediction.com/competitions/electricity',\n",
            "  'description': 'Predict electricity in the North East',\n",
            "  'sponsor': '0ffca579005ef5d8757270f007c4db76',\n",
            "  'type': 'regular'}]\n"
          ],
          "name": "stdout"
        }
      ]
    },
    {
      "cell_type": "code",
      "metadata": {
        "id": "GOUpaSvmsGpK"
      },
      "source": [
        ""
      ],
      "execution_count": null,
      "outputs": []
    },
    {
      "cell_type": "markdown",
      "metadata": {
        "id": "MZ6cnjBksbSQ"
      },
      "source": [
        "Here is an example of steering your crawler towards prize streams"
      ]
    },
    {
      "cell_type": "code",
      "metadata": {
        "id": "h76vwBUYsgPD"
      },
      "source": [
        "from microprediction import MicroCrawler"
      ],
      "execution_count": null,
      "outputs": []
    }
  ]
}
