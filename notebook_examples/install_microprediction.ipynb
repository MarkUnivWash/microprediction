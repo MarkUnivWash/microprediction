{
  "nbformat": 4,
  "nbformat_minor": 0,
  "metadata": {
    "colab": {
      "name": "install_microprediction.ipynb",
      "provenance": [],
      "authorship_tag": "ABX9TyML2o1+WzfEbqXLwheEvESZ",
      "include_colab_link": true
    },
    "kernelspec": {
      "name": "python3",
      "display_name": "Python 3"
    },
    "language_info": {
      "name": "python"
    }
  },
  "cells": [
    {
      "cell_type": "markdown",
      "metadata": {
        "id": "view-in-github",
        "colab_type": "text"
      },
      "source": [
        "<a href=\"https://colab.research.google.com/github/microprediction/microprediction/blob/master/notebook_examples/install_microprediction.ipynb\" target=\"_parent\"><img src=\"https://colab.research.google.com/assets/colab-badge.svg\" alt=\"Open In Colab\"/></a>"
      ]
    },
    {
      "cell_type": "code",
      "execution_count": null,
      "metadata": {
        "id": "XSZnxE094g2e"
      },
      "outputs": [],
      "source": [
        "!pip install microprediction"
      ]
    },
    {
      "cell_type": "code",
      "source": [
        "from microprediction import MicroWriter"
      ],
      "metadata": {
        "id": "b9gzJ2lr47tm"
      },
      "execution_count": 1,
      "outputs": []
    }
  ]
}
