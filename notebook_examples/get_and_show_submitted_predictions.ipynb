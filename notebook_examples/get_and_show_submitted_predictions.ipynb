{
  "nbformat": 4,
  "nbformat_minor": 0,
  "metadata": {
    "colab": {
      "name": "get_and_show_submitted_predictions.ipynb",
      "provenance": [],
      "authorship_tag": "ABX9TyN0kka5Y6kFLOXCt0GwkeRq",
      "include_colab_link": true
    },
    "kernelspec": {
      "name": "python3",
      "display_name": "Python 3"
    },
    "language_info": {
      "name": "python"
    }
  },
  "cells": [
    {
      "cell_type": "markdown",
      "metadata": {
        "id": "view-in-github",
        "colab_type": "text"
      },
      "source": [
        "<a href=\"https://colab.research.google.com/github/microprediction/microprediction/blob/master/notebook_examples/get_and_show_submitted_predictions.ipynb\" target=\"_parent\"><img src=\"https://colab.research.google.com/assets/colab-badge.svg\" alt=\"Open In Colab\"/></a>"
      ]
    },
    {
      "cell_type": "code",
      "metadata": {
        "id": "KQDquBhvjFiO"
      },
      "source": [
        "!pip uninstall -y numpy"
      ],
      "execution_count": null,
      "outputs": []
    },
    {
      "cell_type": "code",
      "metadata": {
        "id": "FGfmqvgUkLeZ"
      },
      "source": [
        "!pip install --upgrade pytz   # Shouldn't be necessary\n",
        "!pip install microprediction "
      ],
      "execution_count": null,
      "outputs": []
    },
    {
      "cell_type": "markdown",
      "metadata": {
        "id": "C99fqYSolcjg"
      },
      "source": [
        "## Get submitted predictions"
      ]
    },
    {
      "cell_type": "code",
      "metadata": {
        "colab": {
          "base_uri": "https://localhost:8080/"
        },
        "id": "aphm9P7VjX2v",
        "outputId": "3221ce30-59b4-45b8-ea34-fdb7e5c5c540"
      },
      "source": [
        "from microprediction import MicroReader\n",
        "WRITE_KEY = \"bd593aac9ef3518b4168592e75c241d1\" # <-- replace with your own \n",
        "NAME = \"ginj-intraday-tactical-asset-allocation-energy-mean.json\" #<--- replace with your own \n",
        "mr = MicroReader(base_url=\"https://devapi.microprediction.org\")   # Won't need base_url arg by the time you read this\n",
        "delay = mr.DELAYS[-1] # About one hour\n",
        "samples = mr.get_predictions(name=NAME,delay=mr.DELAYS[-1],write_key=WRITE_KEY)\n",
        "print(samples[:4])"
      ],
      "execution_count": 10,
      "outputs": [
        {
          "output_type": "stream",
          "name": "stdout",
          "text": [
            "[-0.34263141238185024, -0.2787739817017831, -0.2742132641781175, -0.24421155029544128]\n"
          ]
        }
      ]
    },
    {
      "cell_type": "markdown",
      "metadata": {
        "id": "Cje8Lra9lu_h"
      },
      "source": [
        "## Get submitted predictions with owners"
      ]
    },
    {
      "cell_type": "code",
      "metadata": {
        "colab": {
          "base_uri": "https://localhost:8080/"
        },
        "id": "CGR6bx2_ljvb",
        "outputId": "8f281297-d425-43db-a627-93e41f954c16"
      },
      "source": [
        "owners_and_samples = mr.get_predictions(name=NAME,delay=mr.DELAYS[-1],write_key=WRITE_KEY,consolidate=False)\n",
        "print(owners_and_samples[:5])"
      ],
      "execution_count": 12,
      "outputs": [
        {
          "output_type": "stream",
          "name": "stdout",
          "text": [
            "[('da90ba3076e9ab35524d62350b2b8620', -0.34263141238185024), ('da90ba3076e9ab35524d62350b2b8620', -0.2787739817017831), ('da90ba3076e9ab35524d62350b2b8620', -0.2742132641781175), ('da90ba3076e9ab35524d62350b2b8620', -0.24421155029544128), ('da90ba3076e9ab35524d62350b2b8620', -0.22293920463024972)]\n"
          ]
        }
      ]
    },
    {
      "cell_type": "markdown",
      "metadata": {
        "id": "gYefUySOlya1"
      },
      "source": [
        "# Plot submitted predictions "
      ]
    },
    {
      "cell_type": "code",
      "metadata": {
        "colab": {
          "base_uri": "https://localhost:8080/",
          "height": 281
        },
        "id": "T_4__g-Fl0zN",
        "outputId": "bda83ef7-ff74-40ff-c559-137913f8e9af"
      },
      "source": [
        "num_to_show = 4\n",
        "import matplotlib.pyplot as plt\n",
        "codes = list(set([c for c,v in owners_and_samples]))\n",
        "for code in codes[:num_to_show]:\n",
        "    animal = mr.animal_from_code(code)\n",
        "    smpl = [v for c,v in owners_and_samples if c==code]\n",
        "    plt.hist(smpl, bins=150, alpha=0.5, label=animal)\n",
        "plt.legend(loc='upper left')\n",
        "plt.title(NAME.replace('.json',''))\n",
        "plt.xlim(-0.2,0.2)\n",
        "plt.show()"
      ],
      "execution_count": 16,
      "outputs": [
        {
          "output_type": "display_data",
          "data": {
            "image/png": "[encoded data removed]",
            "text/plain": [
              "<Figure size 432x288 with 1 Axes>"
            ]
          },
          "metadata": {
            "needs_background": "light"
          }
        }
      ]
    }
  ]
}
