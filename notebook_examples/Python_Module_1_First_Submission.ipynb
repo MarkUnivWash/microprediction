{
  "nbformat": 4,
  "nbformat_minor": 0,
  "metadata": {
    "colab": {
      "name": "Python_Module_1_First_Submission.ipynb",
      "provenance": [],
      "authorship_tag": "ABX9TyPMFcMX/x/Allt/gx/zL6xR",
      "include_colab_link": true
    },
    "kernelspec": {
      "name": "python3",
      "display_name": "Python 3"
    }
  },
  "cells": [
    {
      "cell_type": "markdown",
      "metadata": {
        "id": "view-in-github",
        "colab_type": "text"
      },
      "source": [
        "<a href=\"https://colab.research.google.com/github/microprediction/microprediction/blob/master/notebook_examples/Python_Module_1_First_Submission.ipynb\" target=\"_parent\"><img src=\"https://colab.research.google.com/assets/colab-badge.svg\" alt=\"Open In Colab\"/></a>"
      ]
    },
    {
      "cell_type": "code",
      "metadata": {
        "id": "beGBVemiVsEv"
      },
      "source": [
        "!pip install microprediction"
      ],
      "execution_count": null,
      "outputs": []
    },
    {
      "cell_type": "code",
      "metadata": {
        "id": "ZBGPm0riVwYx"
      },
      "source": [
        "from microprediction import MicroWriter,new_key\n",
        "write_key = new_key(difficulty=9)"
      ],
      "execution_count": null,
      "outputs": []
    },
    {
      "cell_type": "code",
      "metadata": {
        "id": "AD8dLIMcV3eA"
      },
      "source": [
        "mw = MicroWriter(write_key=write_key)"
      ],
      "execution_count": null,
      "outputs": []
    },
    {
      "cell_type": "code",
      "metadata": {
        "id": "1oCbWiYAV7KZ"
      },
      "source": [
        "name = 'z1~c5_ripple.json'\n",
        "from numpy import np\n",
        "xs = np.random.randn(225)"
      ],
      "execution_count": null,
      "outputs": []
    },
    {
      "cell_type": "code",
      "metadata": {
        "id": "0Ddc0KAjWTQn"
      },
      "source": [
        "import matplotlib.pyplot as plt\n",
        "plt.hist(xs)"
      ],
      "execution_count": null,
      "outputs": []
    },
    {
      "cell_type": "code",
      "metadata": {
        "id": "GMMkKpVbWY07"
      },
      "source": [
        "res = mw.submit(name=name,values=list(xs),delay=70)\n",
        "print(res)"
      ],
      "execution_count": null,
      "outputs": []
    }
  ]
}
