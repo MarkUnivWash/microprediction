{
  "nbformat": 4,
  "nbformat_minor": 0,
  "metadata": {
    "colab": {
      "name": "set_email_using_writer.ipynb",
      "provenance": [],
      "authorship_tag": "ABX9TyMJbn0cozq9fNu+B32+fOO/",
      "include_colab_link": true
    },
    "kernelspec": {
      "name": "python3",
      "display_name": "Python 3"
    }
  },
  "cells": [
    {
      "cell_type": "markdown",
      "metadata": {
        "id": "view-in-github",
        "colab_type": "text"
      },
      "source": [
        "<a href=\"https://colab.research.google.com/github/microprediction/microprediction/blob/master/notebook_examples/set_email_using_writer.ipynb\" target=\"_parent\"><img src=\"https://colab.research.google.com/assets/colab-badge.svg\" alt=\"Open In Colab\"/></a>"
      ]
    },
    {
      "cell_type": "code",
      "metadata": {
        "id": "QCgJ1PzvDwfN"
      },
      "source": [
        "!pip uninstall numpy\n",
        "!pip install --upgrade numpy\n",
        "!pip install git+https://github.com/microprediction/microprediction  # pip install microprediction should be fine too by the time you read this"
      ],
      "execution_count": null,
      "outputs": []
    },
    {
      "cell_type": "markdown",
      "metadata": {
        "id": "WunEp9GPsbic"
      },
      "source": [
        "### Add your email\n",
        "(best to do so directly for now. The next release of the microprediction client will add a set_email method) "
      ]
    },
    {
      "cell_type": "code",
      "metadata": {
        "colab": {
          "base_uri": "https://localhost:8080/"
        },
        "id": "0aD2bHABrXDK",
        "outputId": "915f5bd5-f71c-4b96-9f77-868878af93e6"
      },
      "source": [
        "write_key = \"4c7b09f29b8b7eb580b48ada674142cd\"\n",
        "from microprediction import MicroWriter # Or MicroCrawler\n",
        "mw = MicroWriter(write_key=write_key)\n",
        "mw.set_email(\"someone@gmail.com\")"
      ],
      "execution_count": 1,
      "outputs": [
        {
          "output_type": "execute_result",
          "data": {
            "text/plain": [
              "0"
            ]
          },
          "metadata": {},
          "execution_count": 1
        }
      ]
    }
  ]
}
