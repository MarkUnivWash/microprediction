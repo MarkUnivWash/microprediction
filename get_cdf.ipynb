{
  "nbformat": 4,
  "nbformat_minor": 0,
  "metadata": {
    "colab": {
      "name": "get_cdf.ipynb",
      "provenance": [],
      "include_colab_link": true
    },
    "kernelspec": {
      "name": "python3",
      "display_name": "Python 3"
    },
    "language_info": {
      "name": "python"
    }
  },
  "cells": [
    {
      "cell_type": "markdown",
      "metadata": {
        "id": "view-in-github",
        "colab_type": "text"
      },
      "source": [
        "<a href=\"https://colab.research.google.com/github/microprediction/microprediction/blob/master/get_cdf.ipynb\" target=\"_parent\"><img src=\"https://colab.research.google.com/assets/colab-badge.svg\" alt=\"Open In Colab\"/></a>"
      ]
    },
    {
      "cell_type": "code",
      "metadata": {
        "id": "KQDquBhvjFiO",
        "colab": {
          "base_uri": "https://localhost:8080/"
        },
        "outputId": "0df28e95-c4fc-45f7-c976-1a74ad0cf038"
      },
      "source": [
        "!pip uninstall -y numpy"
      ],
      "execution_count": 1,
      "outputs": [
        {
          "output_type": "stream",
          "name": "stdout",
          "text": [
            "Found existing installation: numpy 1.19.5\n",
            "Uninstalling numpy-1.19.5:\n",
            "  Successfully uninstalled numpy-1.19.5\n"
          ]
        }
      ]
    },
    {
      "cell_type": "code",
      "metadata": {
        "id": "FGfmqvgUkLeZ"
      },
      "source": [
        "!pip install --upgrade pytz   # Shouldn't be necessary\n",
        "!pip install microprediction "
      ],
      "execution_count": null,
      "outputs": []
    },
    {
      "cell_type": "markdown",
      "metadata": {
        "id": "C99fqYSolcjg"
      },
      "source": [
        "## Get new CDF"
      ]
    },
    {
      "cell_type": "code",
      "metadata": {
        "colab": {
          "base_uri": "https://localhost:8080/",
          "height": 283
        },
        "id": "aphm9P7VjX2v",
        "outputId": "55ea75f3-9927-46eb-8187-d62fd8a9c625"
      },
      "source": [
        "from microprediction import MicroReader\n",
        "mr = MicroReader(base_url='https://devapi.microprediction.org')\n",
        "name = 'c2_change_in_log_ethereum.json'\n",
        "delay = 70\n",
        "cdf = mr.request_get_json(method='cdf', arg=name, data={'delay': delay})\n",
        "from pprint import pprint\n",
        "import matplotlib.pyplot as plt\n",
        "plt.grid()\n",
        "plt.plot(cdf['x'],cdf['y'])"
      ],
      "execution_count": 10,
      "outputs": [
        {
          "output_type": "execute_result",
          "data": {
            "text/plain": [
              "[<matplotlib.lines.Line2D at 0x7f00868b7310>]"
            ]
          },
          "metadata": {},
          "execution_count": 10
        },
        {
          "output_type": "display_data",
          "data": {
            "image/png": "[encoded data removed]",
            "text/plain": [
              "<Figure size 432x288 with 1 Axes>"
            ]
          },
          "metadata": {
            "needs_background": "light"
          }
        }
      ]
    }
  ]
}