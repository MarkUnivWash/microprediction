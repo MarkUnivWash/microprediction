{
  "nbformat": 4,
  "nbformat_minor": 0,
  "metadata": {
    "colab": {
      "name": "first_submission.ipynb",
      "provenance": [],
      "authorship_tag": "ABX9TyMBdJO2DaErhx5hNwyGZOYf",
      "include_colab_link": true
    },
    "kernelspec": {
      "name": "python3",
      "display_name": "Python 3"
    },
    "language_info": {
      "name": "python"
    }
  },
  "cells": [
    {
      "cell_type": "markdown",
      "metadata": {
        "id": "view-in-github",
        "colab_type": "text"
      },
      "source": [
        "<a href=\"https://colab.research.google.com/github/microprediction/microprediction/blob/master/submission_examples_die/first_submission.ipynb\" target=\"_parent\"><img src=\"https://colab.research.google.com/assets/colab-badge.svg\" alt=\"Open In Colab\"/></a>"
      ]
    },
    {
      "cell_type": "code",
      "metadata": {
        "id": "SBkEKKtT49Ut"
      },
      "source": [
        "!pip install microprediction"
      ],
      "execution_count": null,
      "outputs": []
    },
    {
      "cell_type": "markdown",
      "metadata": {
        "id": "CpJO5FKU5gpu"
      },
      "source": [
        "(When it asks whether you want to restart the runtime, say yes) \n"
      ]
    },
    {
      "cell_type": "code",
      "metadata": {
        "id": "_7kXxnCF5ZkY"
      },
      "source": [
        "from microprediction import new_key, MicroWriter\n",
        "import random\n",
        "\n",
        "print(\"Thanks for participating. First I need to create your identity. Be patient.\")\n",
        "write_key = new_key(difficulty=10)\n",
        "mw = MicroWriter(write_key=write_key)\n",
        "die_rolls = [k - 2.5 for k in range(6)] * 50\n",
        "random.shuffle(die_rolls)\n",
        "values = sorted(die_rolls[:mw.num_predictions])\n",
        "for delay in mw.DELAYS:\n",
        "  mw.submit(name='die.json', values=values, delay=delay)\n",
        "print('Now go to https://www.microprediction.org and enter '+write_key+' into the dashboard ')\n",
        "\n"
      ],
      "execution_count": null,
      "outputs": []
    }
  ]
}