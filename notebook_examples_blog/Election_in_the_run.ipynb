{
  "nbformat": 4,
  "nbformat_minor": 0,
  "metadata": {
    "colab": {
      "name": "Election-in-the-run.ipynb",
      "provenance": [],
      "authorship_tag": "ABX9TyOllYKJYvNtjlP+w8sDzdlC",
      "include_colab_link": true
    },
    "kernelspec": {
      "name": "python3",
      "display_name": "Python 3"
    }
  },
  "cells": [
    {
      "cell_type": "markdown",
      "metadata": {
        "id": "view-in-github",
        "colab_type": "text"
      },
      "source": [
        "<a href=\"https://colab.research.google.com/github/microprediction/microprediction/blob/master/notebook_examples_blog/Election_in_the_run.ipynb\" target=\"_parent\"><img src=\"https://colab.research.google.com/assets/colab-badge.svg\" alt=\"Open In Colab\"/></a>"
      ]
    },
    {
      "cell_type": "markdown",
      "metadata": {
        "id": "NQPEj_kVfc2D"
      },
      "source": [
        "A simple interpretation of market implied state electoral college probabilities, nothing more. "
      ]
    },
    {
      "cell_type": "code",
      "metadata": {
        "id": "RyU4DJSCyoBC",
        "outputId": "9df96359-82a3-43f6-bb33-fe50e15e3347",
        "colab": {
          "base_uri": "https://localhost:8080/"
        }
      },
      "source": [
        "states = [ ('arizona',1.29,11),\n",
        "           ('michigan',1.07,16),\n",
        "         ('pennsylvania',1.6,20),\n",
        "        ('georgia',3.1,16),\n",
        "        ('nevada',1.16,6),\n",
        "      ('north carolina',4,15)]\n",
        "\n",
        "# Alaska > T\n",
        "\n",
        "biden = 237\n",
        "trump = 217\n",
        "undecided = sum([a[2] for a in states])\n",
        "print(undecided)\n",
        "total = biden + trump + undecided \n",
        "print(total)\n",
        "assert total==538\n",
        "\n"
      ],
      "execution_count": 468,
      "outputs": [
        {
          "output_type": "stream",
          "text": [
            "84\n",
            "538\n"
          ],
          "name": "stdout"
        }
      ]
    },
    {
      "cell_type": "code",
      "metadata": {
        "id": "CAqq-B_q356F"
      },
      "source": [
        "import numpy as np\n",
        "def biden_sim():\n",
        "   votes = biden\n",
        "   for s in states:\n",
        "      probability = 1/s[1]\n",
        "      if np.random.rand()<probability:\n",
        "           votes = votes + s[2]\n",
        "   return votes\n"
      ],
      "execution_count": 469,
      "outputs": []
    },
    {
      "cell_type": "code",
      "metadata": {
        "id": "vt0Fk_XY62Pk",
        "outputId": "470bbfa7-aebf-48fd-e6cc-2c865c54f0aa",
        "colab": {
          "base_uri": "https://localhost:8080/",
          "height": 315
        }
      },
      "source": [
        "bs = [ biden_sim() for _ in range(50000) ]\n",
        "ts = [538-b for b in bs]\n",
        "b_win = np.mean([b>=270 for b in bs])\n",
        "print('Biden win probability is '+str(b_win))\n",
        "import matplotlib.pyplot as plt\n",
        "plt.hist(bs,bins=200)\n",
        "\n",
        "t_win = np.mean([b<=268 for b in bs ])\n",
        "tie = np.mean([b==269 for b in bs ])\n",
        "print('Trump win probability is '+str(t_win))\n",
        "print('Tie probability is '+ str(tie))\n",
        "\n"
      ],
      "execution_count": 470,
      "outputs": [
        {
          "output_type": "stream",
          "text": [
            "Biden win probability is 0.91262\n",
            "Trump win probability is 0.0825\n",
            "Tie probability is 0.00488\n"
          ],
          "name": "stdout"
        },
        {
          "output_type": "display_data",
          "data": {
            "image/png": "[encoded data removed]",
            "text/plain": [
              "<Figure size 432x288 with 1 Axes>"
            ]
          },
          "metadata": {
            "tags": [],
            "needs_background": "light"
          }
        }
      ]
    },
    {
      "cell_type": "code",
      "metadata": {
        "id": "CawcaX9A8Oxt",
        "outputId": "d4903149-139f-4a94-d042-175ace09ff92",
        "colab": {
          "base_uri": "https://localhost:8080/"
        }
      },
      "source": [
        "biden_270_299 = np.mean([b>=270 and b<=299 for b in bs])\n",
        "1/biden_270_299"
      ],
      "execution_count": 471,
      "outputs": [
        {
          "output_type": "execute_result",
          "data": {
            "text/plain": [
              "1.4998350181480038"
            ]
          },
          "metadata": {
            "tags": []
          },
          "execution_count": 471
        }
      ]
    },
    {
      "cell_type": "code",
      "metadata": {
        "id": "SnbDWtWeRLfy",
        "outputId": "394971f6-8869-474b-d9b4-d439cb246e72",
        "colab": {
          "base_uri": "https://localhost:8080/"
        }
      },
      "source": [
        "biden_300_329 = np.mean([b>=300 and b<=329 for b in bs])\n",
        "1/biden_300_329"
      ],
      "execution_count": 472,
      "outputs": [
        {
          "output_type": "execute_result",
          "data": {
            "text/plain": [
              "4.067024564828372"
            ]
          },
          "metadata": {
            "tags": []
          },
          "execution_count": 472
        }
      ]
    },
    {
      "cell_type": "code",
      "metadata": {
        "id": "myupukxp9LF1",
        "outputId": "60510e4b-477a-4c01-ca18-7bc0285b234c",
        "colab": {
          "base_uri": "https://localhost:8080/"
        }
      },
      "source": [
        "biden_240_269 = np.mean([b>=240 and b<=269 for b in bs])\n",
        "1/biden_240_269"
      ],
      "execution_count": 473,
      "outputs": [
        {
          "output_type": "execute_result",
          "data": {
            "text/plain": [
              "11.47842056932966"
            ]
          },
          "metadata": {
            "tags": []
          },
          "execution_count": 473
        }
      ]
    },
    {
      "cell_type": "code",
      "metadata": {
        "id": "2Xhl33WL9ZOz",
        "outputId": "45df8ce2-305f-4c98-ca29-26054c452bf2",
        "colab": {
          "base_uri": "https://localhost:8080/"
        }
      },
      "source": [
        "biden_210_239 = np.mean([b>=210 and b<=239 for b in bs])\n",
        "1/biden_210_239"
      ],
      "execution_count": 474,
      "outputs": [
        {
          "output_type": "execute_result",
          "data": {
            "text/plain": [
              "3846.1538461538466"
            ]
          },
          "metadata": {
            "tags": []
          },
          "execution_count": 474
        }
      ]
    },
    {
      "cell_type": "code",
      "metadata": {
        "id": "2wc5-03i-UqL",
        "outputId": "8e11eb62-a0a4-42e8-8262-9fb45d5f3050",
        "colab": {
          "base_uri": "https://localhost:8080/"
        }
      },
      "source": [
        "trump_270_299 = np.mean([t>=270 and t<=299 for t in ts])\n",
        "1/trump_270_299\n"
      ],
      "execution_count": 475,
      "outputs": [
        {
          "output_type": "execute_result",
          "data": {
            "text/plain": [
              "12.159533073929962"
            ]
          },
          "metadata": {
            "tags": []
          },
          "execution_count": 475
        }
      ]
    },
    {
      "cell_type": "code",
      "metadata": {
        "id": "RIY9lguT-pp9",
        "outputId": "cb1c90c5-0184-4e61-a244-36a1a9605c3e",
        "colab": {
          "base_uri": "https://localhost:8080/"
        }
      },
      "source": [
        "trump_300_329 = np.mean([t>=300 and t<=329 for t in ts])\n",
        "1/trump_300_329"
      ],
      "execution_count": 476,
      "outputs": [
        {
          "output_type": "execute_result",
          "data": {
            "text/plain": [
              "3846.1538461538466"
            ]
          },
          "metadata": {
            "tags": []
          },
          "execution_count": 476
        }
      ]
    },
    {
      "cell_type": "code",
      "metadata": {
        "id": "RfJL1ZiJ-5U6",
        "outputId": "63ea2988-2b34-40a4-8721-d316c2d31162",
        "colab": {
          "base_uri": "https://localhost:8080/"
        }
      },
      "source": [
        "trump_240_269 = np.mean([t>=240 and t<=269 for t in ts])\n",
        "1/trump_240_269"
      ],
      "execution_count": 477,
      "outputs": [
        {
          "output_type": "execute_result",
          "data": {
            "text/plain": [
              "1.5130882130428203"
            ]
          },
          "metadata": {
            "tags": []
          },
          "execution_count": 477
        }
      ]
    },
    {
      "cell_type": "code",
      "metadata": {
        "id": "3Q5duHW6_Ij5",
        "outputId": "d3057e3b-2be6-406c-bcf9-31da58d3888c",
        "colab": {
          "base_uri": "https://localhost:8080/"
        }
      },
      "source": [
        "trump_210_239 = np.mean([t>=210 and t<=239 for t in ts])\n",
        "1/trump_210_239"
      ],
      "execution_count": 478,
      "outputs": [
        {
          "output_type": "execute_result",
          "data": {
            "text/plain": [
              "3.897116134060795"
            ]
          },
          "metadata": {
            "tags": []
          },
          "execution_count": 478
        }
      ]
    }
  ]
}
