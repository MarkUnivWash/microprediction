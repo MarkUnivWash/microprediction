{
  "nbformat": 4,
  "nbformat_minor": 0,
  "metadata": {
    "colab": {
      "name": "Election.ipynb",
      "provenance": [],
      "collapsed_sections": [],
      "authorship_tag": "ABX9TyOIN8xtVZMfi27c77nGxLmd",
      "include_colab_link": true
    },
    "kernelspec": {
      "name": "python3",
      "display_name": "Python 3"
    }
  },
  "cells": [
    {
      "cell_type": "markdown",
      "metadata": {
        "id": "view-in-github",
        "colab_type": "text"
      },
      "source": [
        "<a href=\"https://colab.research.google.com/github/microprediction/microprediction/blob/master/notebook_examples_blog/Election.ipynb\" target=\"_parent\"><img src=\"https://colab.research.google.com/assets/colab-badge.svg\" alt=\"Open In Colab\"/></a>"
      ]
    },
    {
      "cell_type": "code",
      "metadata": {
        "id": "_FgpislEMGjs",
        "outputId": "7d936fd7-1e5b-49ee-b021-598a7da3a44c",
        "colab": {
          "base_uri": "https://localhost:8080/",
          "height": 35
        }
      },
      "source": [
        "# Data at https://github.com/TheEconomist/us-potus-model/tree/master/data\n",
        "# Thank Andy Gelman and crew for open sourcing this. \n",
        "# Perhaps other's touting models might do the same \n",
        "\n",
        "import pandas as pd\n",
        "import numpy as np\n",
        "import matplotlib.pyplot as plt\n",
        "plt.rcParams[\"figure.figsize\"] = (10,8)\n",
        "\n",
        "polls16 = pd.read_csv('https://raw.githubusercontent.com/TheEconomist/us-potus-model/master/data/all_polls.csv')\n",
        "polls16['tmc'] = polls16['trump']-polls16['clinton']\n",
        "polls16['end.date'] = pd.to_datetime(polls16['end.date'])\n",
        "# Remove college from name to help difflib along\n",
        "polls16['pollster'] = polls16['pollster'].apply( lambda name: name.replace('College','').replace(\"University\",\"\").replace('Research',''))\n",
        "pollsters16 = list(set(polls16['pollster']))\n",
        "print('There are '+str(len(pollsters16))+' pollsters in 2020')"
      ],
      "execution_count": 21,
      "outputs": [
        {
          "output_type": "stream",
          "text": [
            "There are 260 pollsters in 2020\n"
          ],
          "name": "stdout"
        }
      ]
    },
    {
      "cell_type": "code",
      "metadata": {
        "id": "cC35PDo95EzA"
      },
      "source": [
        "# Parameters you can play with\n",
        "SWING16 = 2   # Minimum percentage swing to Trump in 2016 before a pollster is considered prescient"
      ],
      "execution_count": 22,
      "outputs": []
    },
    {
      "cell_type": "markdown",
      "metadata": {
        "id": "2dG_1dOaf1WW"
      },
      "source": [
        "### 1) Prescient Pollsters\n",
        "Let's look at which polls picked up **changes** in Trump v. Clinton in the last stretch before 2016 election. This means that somehow their sampling methodology might have been lucky in some sense, in sofar as it selected more people who changed their minds towards Trump. It does not imply that the polls are accurate in an absolute sense. "
      ]
    },
    {
      "cell_type": "code",
      "metadata": {
        "id": "juw4jQVcPk6g",
        "outputId": "dddda15c-b0c9-460f-d142-c494611a34c4",
        "colab": {
          "base_uri": "https://localhost:8080/",
          "height": 659
        }
      },
      "source": [
        "final16 = polls16.loc[ (polls16['start.date']>'2016-10-01') & (polls16['end.date']<'2016-11-08') & (polls16['population']=='Likely Voters'),:]\n",
        "final16 = final16.sort_values(by='end.date')\n",
        "\n",
        "changes16 = dict()\n",
        "accuracy16 = dict()\n",
        "for pollster in pollsters16:\n",
        "  final_polls16 = final16.loc[(final16['pollster']==pollster),:]\n",
        "  if len(final_polls16['tmc'].values)>1:\n",
        "    earliest = final_polls16['tmc'].values[0]\n",
        "    latest = final_polls16['tmc'].values[-1]\n",
        "    change = latest-earliest\n",
        "    changes16[pollster]=change\n",
        "    accuracy16[pollster]=abs(latest+2.1)  # Clinton \"won\" by 2.1 % \n",
        "\n",
        "\n",
        "print('Number of pollsters with two or more polls is '+str(len(changes16)))\n",
        "prescience16 = [ (p,v, accuracy16[p]) for p,v in changes16.items() if v>=SWING16]\n",
        "prescient16 = [ p for p,v,a in prescience16]\n",
        "print('Of these, the number predicting a swing to Trump of at least '+str(SWING16)+' was '+str(len(prescient16)))\n",
        "prescient16_abs_err = np.mean([a for _,_,a in prescience16])\n",
        "print('Mean absolute polling error amongst prescient pollsters was '+str(prescient16_abs_err))\n",
        "print('Some examples of prescient pollsters... (name | swing to trump | error )')\n",
        "prescience16"
      ],
      "execution_count": 27,
      "outputs": [
        {
          "output_type": "stream",
          "text": [
            "Number of pollsters with two or more polls is 71\n",
            "Of these, the number predicting a swing to Trump of at least 2 was 33\n",
            "Mean absolute polling error amongst prescient pollsters was 5.221212121212121\n",
            "Some examples of prescient pollsters... (name | swing to trump | error )\n"
          ],
          "name": "stdout"
        },
        {
          "output_type": "execute_result",
          "data": {
            "text/plain": [
              "[('UNH/WMUR', 4, 8.9),\n",
              " ('Susquehanna (R)/ABC27 News', 2, 0.10000000000000009),\n",
              " ('MassINC/WBUR', 4, 3.1),\n",
              " ('Bloomberg/Selzer', 6, 0.8999999999999999),\n",
              " ('Data Orbital (R)', 4, 5.1),\n",
              " ('UMass Lowell/7 News', 7, 3.1),\n",
              " ('Quinnipiac', 2, 0.8999999999999999),\n",
              " ('TargetSmart/William & Mary', 6, 5.1),\n",
              " ('WashPost/SurveyMonkey', 12, 5.1),\n",
              " ('NBC/WSJ/Marist', 12, 11.1),\n",
              " ('SurveyUSA/KABC/SCNG', 5, 18.9),\n",
              " ('Des Moines Register/Mediacom/Selzer', 3, 9.1),\n",
              " ('MPRC', 3, 2.9),\n",
              " ('Y2 Analytics (R)', 9, 11.1),\n",
              " ('Rasmussen/Heat Street', 9, 13.1),\n",
              " ('ARG', 12, 7.1),\n",
              " ('UPI/CVOTER', 17, 13.1),\n",
              " ('Siena', 7, 14.9),\n",
              " ('JMC Analytics (R)/8 News NOW', 2, 2.1),\n",
              " ('Suffolk/Boston Globe', 2, 2.1),\n",
              " ('SurveyMonkey', 2, 6.9),\n",
              " ('PPP (D-Center for American Progress Action Fund)', 5, 0.10000000000000009),\n",
              " ('Christopher Newport', 9, 3.9),\n",
              " ('Ipsos/Reuters', 6, 1.1),\n",
              " ('IBD/TIPP', 2, 4.1),\n",
              " ('NYT Upshot/Siena', 7, 2.1),\n",
              " ('UNF', 2, 0.10000000000000009),\n",
              " ('NBC/WSJ', 7, 1.9),\n",
              " ('Loras ', 7, 1.1),\n",
              " ('Lucid/The Times-Picayune', 3, 2.9),\n",
              " ('Suffolk', 2, 2.1),\n",
              " ('CBS/YouGov', 2, 0.10000000000000009),\n",
              " ('CNN', 10, 8.1)]"
            ]
          },
          "metadata": {
            "tags": []
          },
          "execution_count": 27
        }
      ]
    },
    {
      "cell_type": "markdown",
      "metadata": {
        "id": "tLXKxxXc5joc"
      },
      "source": [
        "We will call any other pollster a \"deceived\" pollster. However as the below shows, a \"deceived\" pollster is not necessarily less accurate. Indeed the mean abs error amongst deceived pollster's when estimating the final advantage of Clinton (she won pop vote by 2.1%) is 5.3 points, if we use only the last poll from each pollster to calculate. This compares with an almost identical mean absolute error of 5.2 for the so-called prescient pollsters. \n",
        "\n",
        "It would therefore take a fairly nuanced model to tease out the impact of prescient versus deceived pollsters, by our definition. Most methodologies will only take account of accuracy in predicting the level of support for a candidate, not the accuracy in preciting *changes* in support. \n",
        "\n",
        "I say most models, but one can certainly construct a generative model where this is captured and one could certainly use the same technology and technique as the Economist / Gelman approach (i.e. MCMC computation of posterior). Whether anyone has is another question, and whether it would be a good idea is unclear.  "
      ]
    },
    {
      "cell_type": "code",
      "metadata": {
        "id": "zEReIIg7s5uF",
        "outputId": "0dcb9e0e-e9f1-4025-ef37-113c95112607",
        "colab": {
          "base_uri": "https://localhost:8080/",
          "height": 225
        }
      },
      "source": [
        "deception16 = [ (p,v, accuracy16[p]) for p,v in changes16.items() if v<SWING16]\n",
        "deceived16 = [ p for p,_,_ in deception16]\n",
        "deceived16_abs_err = np.mean([a for _,_,a in deception16])\n",
        "print('Mean absolute polling error amongst deceived pollsters was '+str(deceived16_abs_err))\n",
        "print('Some examples ...')\n",
        "deception16[:10]"
      ],
      "execution_count": 30,
      "outputs": [
        {
          "output_type": "stream",
          "text": [
            "Mean absolute polling error amongst deceived pollsters was 5.3315789473684205\n",
            "Some examples ...\n"
          ],
          "name": "stdout"
        },
        {
          "output_type": "execute_result",
          "data": {
            "text/plain": [
              "[('ABC/Post', 0, 1.9),\n",
              " ('YouGov/Economist', 0, 1.9),\n",
              " ('Opinion Savvy/Fox 13/Fox 35', 0, 1.9),\n",
              " ('Opinion Savvy', 1, 0.10000000000000009),\n",
              " ('Winthrop ', 1, 2.9),\n",
              " ('Insights West', 1, 1.9),\n",
              " ('Glengariff/Detroit News/WDIV', -3, 11.9),\n",
              " ('FOX', -2, 1.9),\n",
              " ('CBS/Times', -1, 1.9),\n",
              " ('EPIC-MRA/Detroit Free Press/WXYZ-TV ', -1, 5.9)]"
            ]
          },
          "metadata": {
            "tags": []
          },
          "execution_count": 30
        }
      ]
    },
    {
      "cell_type": "markdown",
      "metadata": {
        "id": "h_FYQlYSfthE"
      },
      "source": [
        "### 2) What do they say this time?\n",
        "Let's assume that polls' information regarding levels is already incorporated into the Election models. \n",
        "\n",
        "It's also fair to assume that changes in polls are included, in aggregate. \n",
        "\n",
        "However, what about more fine grained differentiation between prescient and deceived pollsters? What are these two groups saying this time about ***changes*** in voting in recent weeks? Are they saying the same thing? \n",
        "\n",
        "The answer seems to be no. "
      ]
    },
    {
      "cell_type": "code",
      "metadata": {
        "id": "t378enz3fz7l",
        "outputId": "95710acb-1122-4552-c7fd-468879e61c89",
        "colab": {
          "base_uri": "https://localhost:8080/",
          "height": 35
        }
      },
      "source": [
        "polls20 = pd.read_csv('https://docs.google.com/spreadsheets/d/e/2PACX-1vQ56fySJKLL18Lipu1_i3ID9JE06voJEz2EXm6JW4Vh11zmndyTwejMavuNntzIWLY0RyhA1UsVEen0/pub?gid=0&single=true&output=csv')\n",
        "polls20['tmc'] = polls20['trump']-polls20['biden']\n",
        "polls20['end.date'] = polls20['end.date'].apply(lambda s: s.replace('108','10/8')) # Urgh\n",
        "polls20['end.date'] = pd.to_datetime(polls20['end.date'])\n",
        "polls20 = polls20.sort_values(by='end.date')\n",
        "polls20['pollster'] = polls20['pollster'].apply( lambda name: name.replace('College','').replace('University','').replace('Research',''))\n",
        "final20 = polls20.loc[ (polls20['start.date']>'2020-9-01') & (polls20['population']=='lv'),:]\n",
        "final20 = final20.sort_values(by='end.date')\n",
        "pollsters20=list(set(final20['pollster'].values))\n",
        "print('There are '+str(len(pollsters20))+' pollsters in 2020')\n"
      ],
      "execution_count": 32,
      "outputs": [
        {
          "output_type": "stream",
          "text": [
            "There are 122 pollsters in 2020\n"
          ],
          "name": "stdout"
        }
      ]
    },
    {
      "cell_type": "code",
      "metadata": {
        "id": "00rTz1KqlSy8"
      },
      "source": [
        "import difflib\n",
        "from difflib import SequenceMatcher\n",
        "\n",
        "def similar(a, b):\n",
        "    return SequenceMatcher(None, a, b).ratio()\n",
        "\n",
        "def predictions(selected16):\n",
        "  \"\"\" If supplied a list of pollsters from 2016, will show what they think in 2020  \n",
        "\n",
        "       selected16 : [ str ]. list of pollsters from 2016\n",
        "  \"\"\"\n",
        "  swing20 = list()   \n",
        "  trump20 = dict()   #. pollster:trump lead\n",
        "  for pollster20 in pollsters20:\n",
        "      # Try to match current pollsters to previous \n",
        "      candidates16 = difflib.get_close_matches(pollster20, selected16,n=1) \n",
        "      if len(candidates16):\n",
        "        if similar(candidates16[0],pollster20)>0.3:\n",
        "            match16 = candidates16[0]\n",
        "            print(match16 + ' -> ' + pollster20)\n",
        "            # Look at polls this time around to see if swinging is detected\n",
        "            late20   = final20.loc[(final20['pollster']==pollster20),:]\n",
        "            latest20 = late20['tmc'].values[-1]\n",
        "            trump20[pollster20]=latest20   # Most recent poll Trump-Biden differential,\n",
        "                                  # but more relevant might be .. \n",
        "    \n",
        "            if len(late20['tmc'].values)>1:\n",
        "              # Compute the swing in 2020\n",
        "              earliest20 = late20['tmc'].values[0]\n",
        "              swing20.append(latest20-earliest20)\n",
        "            \n",
        "        else:\n",
        "          print('No match for '+pollster20+ ' in the following list ')\n",
        "          print(candidates16)\n",
        " \n",
        "  plt.hist(swing20,bins=100)\n",
        "  plt.xlabel('Trump Swing 2020')\n",
        "  import numpy as np\n",
        "  print(\"\")\n",
        "  trump_level = np.mean(list(trump20.values()))\n",
        "  trump_swing = np.mean(swing20)\n",
        "  print('Trump advantage '+str(trump_level))\n",
        "  print('Trump swing mean '+str(trump_swing))\n",
        "  print('Trump swing median '+str(np.median(swing20)))\n",
        "  return swing20, trump20 \n",
        "\n"
      ],
      "execution_count": 33,
      "outputs": []
    },
    {
      "cell_type": "code",
      "metadata": {
        "id": "ORBWtpmB8wTv",
        "outputId": "26017ed6-1880-4d76-8861-2583da5d69b2",
        "colab": {
          "base_uri": "https://localhost:8080/",
          "height": 983
        }
      },
      "source": [
        "prescient16\n",
        "prescient20_swings, prescient20_trump = predictions(selected16=prescient16)\n",
        "prescient20_trump\n"
      ],
      "execution_count": 35,
      "outputs": [
        {
          "output_type": "stream",
          "text": [
            "Siena -> Siena \n",
            "NYT Upshot/Siena -> NYT/Siena \n",
            "Y2 Analytics (R) -> DKC Analytics\n",
            "CBS/YouGov -> YouGov\n",
            "Quinnipiac -> Quinnipiac \n",
            "Suffolk -> Suffolk \n",
            "Data Orbital (R) -> Data Orbital\n",
            "Y2 Analytics (R) -> Y2 Analytics\n",
            "Christopher Newport -> Christopher Newport \n",
            "IBD/TIPP -> IBD/TIPP\n",
            "IBD/TIPP -> TIPP\n",
            "SurveyUSA/KABC/SCNG -> SurveyUSA\n",
            "\n",
            "Trump advantage -7.0\n",
            "Trump swing mean 0.4\n",
            "Trump swing median 0.0\n"
          ],
          "name": "stdout"
        },
        {
          "output_type": "execute_result",
          "data": {
            "text/plain": [
              "{'Christopher Newport ': -5,\n",
              " 'DKC Analytics': -19,\n",
              " 'Data Orbital': -2,\n",
              " 'IBD/TIPP': -3,\n",
              " 'NYT/Siena ': -5,\n",
              " 'Quinnipiac ': -3,\n",
              " 'Siena ': -22,\n",
              " 'Suffolk ': -4,\n",
              " 'SurveyUSA': -27,\n",
              " 'TIPP': -13,\n",
              " 'Y2 Analytics': 10,\n",
              " 'YouGov': 9}"
            ]
          },
          "metadata": {
            "tags": []
          },
          "execution_count": 35
        },
        {
          "output_type": "display_data",
          "data": {
            "image/png": "[encoded data removed]",
            "text/plain": [
              "<Figure size 720x576 with 1 Axes>"
            ]
          },
          "metadata": {
            "tags": [],
            "needs_background": "light"
          }
        }
      ]
    },
    {
      "cell_type": "markdown",
      "metadata": {
        "id": "o6pBBnsOy9Uv"
      },
      "source": [
        "So we see that the prescient pollsters think Biden is up by 7.0 points. But quite a few show a swing towards Trump (one outlier drags the average back). \n",
        "\n",
        "On the other hand, the calculation below shows that the deceived pollsters think Biden is up by nearly 9 points. \n",
        "\n",
        "Both seem like comfortable leads. \n",
        "\n",
        "However the deceived pollsters see a swing towards Biden of 3.4 points (!) and we simply don't see that in the prescient polls. \n",
        "\n",
        "Yeah, its a small sample. \n"
      ]
    },
    {
      "cell_type": "code",
      "metadata": {
        "id": "LrHd8V-9tI70",
        "outputId": "05388b11-2dcf-4920-b98c-19822b5fd136",
        "colab": {
          "base_uri": "https://localhost:8080/",
          "height": 1000
        }
      },
      "source": [
        "deceived20_swings, deceived20_trump = predictions(selected16=deceived16)\n",
        "deceived20_trump"
      ],
      "execution_count": 37,
      "outputs": [
        {
          "output_type": "stream",
          "text": [
            "Fairleigh Dickinson -> Fairleigh Dickinson \n",
            "Public Religion  Institute/The Atlantic -> Public Religion  Institute\n",
            "Remington  Group (R)/Axiom Strategies -> Remington  Group\n",
            "Saint Leo  -> Saint Leo \n",
            "Politico/Morning Consult -> Morning Consult\n",
            "Monmouth  -> Monmouth \n",
            "Roanoke  -> Roanoke \n",
            "Washington Post/GMU -> ABC News/Washington Post\n",
            "Suffolk/USA Today -> Suffolk \n",
            "Baldwin Wallace  -> Baldwin Wallace \n",
            "Marquette Law School -> Marquette  Law School\n",
            "Muhlenberg/Morning Call -> Muhlenberg \n",
            "SurveyUSA/KSTP-TV -> SurveyUSA\n",
            "\n",
            "Trump advantage -8.76923076923077\n",
            "Trump swing mean -3.4\n",
            "Trump swing median -2.5\n"
          ],
          "name": "stdout"
        },
        {
          "output_type": "execute_result",
          "data": {
            "text/plain": [
              "{'ABC News/Washington Post': -9,\n",
              " 'Baldwin Wallace ': -5,\n",
              " 'Fairleigh Dickinson ': -15,\n",
              " 'Marquette  Law School': -5,\n",
              " 'Monmouth ': -10,\n",
              " 'Morning Consult': -7,\n",
              " 'Muhlenberg ': -4,\n",
              " 'Public Religion  Institute': -13,\n",
              " 'Remington  Group': 5,\n",
              " 'Roanoke ': -14,\n",
              " 'Saint Leo ': -6,\n",
              " 'Suffolk ': -4,\n",
              " 'SurveyUSA': -27}"
            ]
          },
          "metadata": {
            "tags": []
          },
          "execution_count": 37
        },
        {
          "output_type": "display_data",
          "data": {
            "image/png": "[encoded data removed]",
            "text/plain": [
              "<Figure size 720x576 with 1 Axes>"
            ]
          },
          "metadata": {
            "tags": [],
            "needs_background": "light"
          }
        }
      ]
    },
    {
      "cell_type": "code",
      "metadata": {
        "id": "nyrc-oDp_cAR",
        "outputId": "2c2f57a0-7160-4a74-ad7a-56abcab83b2e",
        "colab": {
          "base_uri": "https://localhost:8080/",
          "height": 515
        }
      },
      "source": [
        "plt.hist([deceived20_swings,prescient20_swings], density=True, histtype='bar', bins=30)\n",
        "plt.legend(['deceived','prescient'])\n",
        "plt.xlabel('Swing to Trump')"
      ],
      "execution_count": 597,
      "outputs": [
        {
          "output_type": "execute_result",
          "data": {
            "text/plain": [
              "Text(0.5, 0, 'Swing to Trump')"
            ]
          },
          "metadata": {
            "tags": []
          },
          "execution_count": 597
        },
        {
          "output_type": "display_data",
          "data": {
            "image/png": "[encoded data removed]",
            "text/plain": [
              "<Figure size 720x576 with 1 Axes>"
            ]
          },
          "metadata": {
            "tags": [],
            "needs_background": "light"
          }
        }
      ]
    },
    {
      "cell_type": "markdown",
      "metadata": {
        "id": "rsg6zp6CtlK7"
      },
      "source": [
        "And there you have the Halloween plot. Its hard not to look at this and think there are two groups of pollsters saying quite different things. And the orange guys were right last time around so..."
      ]
    },
    {
      "cell_type": "markdown",
      "metadata": {
        "id": "zD58MuyGtkLE"
      },
      "source": [
        "\n",
        "So nothing, perhaps. This is a long way from a theory. But it might be a worry from the liberal perspective (at least relative to the anzatz that Biden has a 95% chance of winning, as currently predicted by the Economist/Gelman model). \n",
        "\n"
      ]
    },
    {
      "cell_type": "code",
      "metadata": {
        "id": "a5R25aPaCfWn",
        "outputId": "28845c1c-c9c6-4787-bd02-1e5956a0f628",
        "colab": {
          "base_uri": "https://localhost:8080/",
          "height": 515
        }
      },
      "source": [
        "\n",
        "plt.hist([list(deceived20_trump.values()), list(prescient20_trump.values())], density=True, histtype='bar', bins=50)\n",
        "plt.legend(['deceived','prescient'])\n",
        "plt.xlabel('Trump advantage')"
      ],
      "execution_count": 40,
      "outputs": [
        {
          "output_type": "execute_result",
          "data": {
            "text/plain": [
              "Text(0.5, 0, 'Trump advantage')"
            ]
          },
          "metadata": {
            "tags": []
          },
          "execution_count": 40
        },
        {
          "output_type": "display_data",
          "data": {
            "image/png": "[encoded data removed]",
            "text/plain": [
              "<Figure size 720x576 with 1 Axes>"
            ]
          },
          "metadata": {
            "tags": [],
            "needs_background": "light"
          }
        }
      ]
    },
    {
      "cell_type": "markdown",
      "metadata": {
        "id": "IsNsMymruMrU"
      },
      "source": [
        "Who are the pollsters ... "
      ]
    },
    {
      "cell_type": "code",
      "metadata": {
        "id": "y7w6ZuTBhR0C",
        "outputId": "4a4168ed-db7f-46cd-a8a6-9d7db56523a3",
        "colab": {
          "base_uri": "https://localhost:8080/",
          "height": 243
        }
      },
      "source": [
        "deceived20_trump"
      ],
      "execution_count": 41,
      "outputs": [
        {
          "output_type": "execute_result",
          "data": {
            "text/plain": [
              "{'ABC News/Washington Post': -9,\n",
              " 'Baldwin Wallace ': -5,\n",
              " 'Fairleigh Dickinson ': -15,\n",
              " 'Marquette  Law School': -5,\n",
              " 'Monmouth ': -10,\n",
              " 'Morning Consult': -7,\n",
              " 'Muhlenberg ': -4,\n",
              " 'Public Religion  Institute': -13,\n",
              " 'Remington  Group': 5,\n",
              " 'Roanoke ': -14,\n",
              " 'Saint Leo ': -6,\n",
              " 'Suffolk ': -4,\n",
              " 'SurveyUSA': -27}"
            ]
          },
          "metadata": {
            "tags": []
          },
          "execution_count": 41
        }
      ]
    },
    {
      "cell_type": "code",
      "metadata": {
        "id": "_LmsM9mWh67J",
        "outputId": "b9c93511-3d54-4dce-9cc4-35bcc4966ba2",
        "colab": {
          "base_uri": "https://localhost:8080/",
          "height": 225
        }
      },
      "source": [
        "def show_pollster(selected20,lead):\n",
        "  poll = polls20.loc[ (polls20['pollster']==selected20),:]\n",
        "  plt.plot(poll['end.date'],poll['tmc'],'*')\n",
        "  abs_lead = abs(lead)\n",
        "  candidate = 'Biden' if lead<0 else 'Trump'\n",
        "  plt.title(selected20+' ('+candidate+' by '+str(abs_lead)+')')\n",
        "prescient20_trump"
      ],
      "execution_count": 44,
      "outputs": [
        {
          "output_type": "execute_result",
          "data": {
            "text/plain": [
              "{'Christopher Newport ': -5,\n",
              " 'DKC Analytics': -19,\n",
              " 'Data Orbital': -2,\n",
              " 'IBD/TIPP': -3,\n",
              " 'NYT/Siena ': -5,\n",
              " 'Quinnipiac ': -3,\n",
              " 'Siena ': -22,\n",
              " 'Suffolk ': -4,\n",
              " 'SurveyUSA': -27,\n",
              " 'TIPP': -13,\n",
              " 'Y2 Analytics': 10,\n",
              " 'YouGov': 9}"
            ]
          },
          "metadata": {
            "tags": []
          },
          "execution_count": 44
        }
      ]
    },
    {
      "cell_type": "markdown",
      "metadata": {
        "id": "VFYXQk3AuWZZ"
      },
      "source": [
        "Want to poll watch? Why wouldn't you?\n",
        "\n",
        "I've made it easier here..."
      ]
    },
    {
      "cell_type": "code",
      "metadata": {
        "id": "j5duXuIgospL",
        "outputId": "917a36cf-af0d-4443-a38f-e339b3e32de5",
        "colab": {
          "base_uri": "https://localhost:8080/",
          "height": 499
        }
      },
      "source": [
        "# Click this to show a random prescient pollster\n",
        "import random \n",
        "pollster, swg = random.choice( list(prescient20_trump.items()) )\n",
        "show_pollster(pollster,swg)"
      ],
      "execution_count": 45,
      "outputs": [
        {
          "output_type": "display_data",
          "data": {
            "image/png": "[encoded data removed]",
            "text/plain": [
              "<Figure size 720x576 with 1 Axes>"
            ]
          },
          "metadata": {
            "tags": [],
            "needs_background": "light"
          }
        }
      ]
    },
    {
      "cell_type": "code",
      "metadata": {
        "id": "jlv_QtL8sVMR",
        "outputId": "a48999a7-8ef5-4d26-8da6-07948a67ba05",
        "colab": {
          "base_uri": "https://localhost:8080/",
          "height": 499
        }
      },
      "source": [
        "# Click this to show a random deceived pollster\n",
        "import random \n",
        "pollster, swg = random.choice( list(deceived20_trump.items()) )\n",
        "show_pollster(pollster,swg)"
      ],
      "execution_count": 46,
      "outputs": [
        {
          "output_type": "display_data",
          "data": {
            "image/png": "[encoded data removed]",
            "text/plain": [
              "<Figure size 720x576 with 1 Axes>"
            ]
          },
          "metadata": {
            "tags": [],
            "needs_background": "light"
          }
        }
      ]
    }
  ]
}
