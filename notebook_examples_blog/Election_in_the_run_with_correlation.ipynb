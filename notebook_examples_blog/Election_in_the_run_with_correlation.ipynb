{
  "nbformat": 4,
  "nbformat_minor": 0,
  "metadata": {
    "colab": {
      "name": "Election-in-the-run-with-correlation.ipynb",
      "provenance": [],
      "authorship_tag": "ABX9TyNG4jlqSqT//hMIvkYCdF7R",
      "include_colab_link": true
    },
    "kernelspec": {
      "name": "python3",
      "display_name": "Python 3"
    }
  },
  "cells": [
    {
      "cell_type": "markdown",
      "metadata": {
        "id": "view-in-github",
        "colab_type": "text"
      },
      "source": [
        "<a href=\"https://colab.research.google.com/github/microprediction/microprediction/blob/master/notebook_examples_blog/Election_in_the_run_with_correlation.ipynb\" target=\"_parent\"><img src=\"https://colab.research.google.com/assets/colab-badge.svg\" alt=\"Open In Colab\"/></a>"
      ]
    },
    {
      "cell_type": "markdown",
      "metadata": {
        "id": "NQPEj_kVfc2D"
      },
      "source": [
        "# Greetings! \n",
        "\n",
        "You might be here because you think\n",
        "\n",
        "\n",
        "*   Betting markets are far more efficient then Nate Silver or G. Elliott Morris. I really can't help you if you insist otherwise - perhaps G. Elliott will offer you 19/1 on Trump LOL.  \n",
        "*   Betting markets still requires some interpretation, because many punters are so lazy they don't even run simulations, or because they involve heterogeneous groups and some markets are products of others, approximately, so we get a convexity effect.  \n",
        "\n",
        "See this post https://www.linkedin.com/posts/petercotton_is-bidens-chance-of-winning-90-percent-or-activity-6730191890530095104-njhk and if you like it, please react on linked-in so the marketting dollar for the open source prediction network goes further. Because it really is a dollar. \n",
        "\n",
        "## Okay then...\n",
        "\n",
        "This notebook provides you with a simple interpretation of market implied state electoral college probabilities, nothing more. It can be used to compute things like the market implied correlation between states, using a very simple correlation model. That may, or may not, provide you with a new perspective on the markets or a lens as to their degree of internal consistency.\n",
        "\n",
        "In using this, rather than the groovy graphics at 538, you are taking a stand against the ridiculous celebritization of statistics and journalistic group-think. \n",
        "\n",
        "\n"
      ]
    },
    {
      "cell_type": "code",
      "metadata": {
        "id": "RyU4DJSCyoBC",
        "outputId": "ce39664c-9cdc-4ba6-eaf4-8c6dc6aa181f",
        "colab": {
          "base_uri": "https://localhost:8080/"
        }
      },
      "source": [
        "import numpy as np\n",
        "from pprint import pprint\n",
        "import math\n",
        "from scipy.stats import norm\n",
        "   \n",
        "\n",
        "# Current prices for Biden, expressed as inverse probabilities, and electoral votes\n",
        "states = [ ('arizona',1.23,11), ('michigan',1.01,16), ('pennsylvania',1.03,20),\n",
        "          ('georgia',1.12,16),('nevada',1.07,6),  ('north carolina',6.5,15), ('alaska',15,3),\n",
        "          ('wisconsin',1.03,10)]\n",
        "\n",
        "# Maybe you want to add Wisconsin. \n",
        "# Okay, let's see if this foreignor can get the basic electoral calculus right. \n",
        "# You might want to re-introduce some other states, but if so change the existing totals below: \n",
        "biden = 227\n",
        "trump = 214   # Does not include Alaska\n",
        "\n",
        "\n",
        "# Sanity check. \n",
        "undecided = sum([a[2] for a in states])\n",
        "print(undecided)\n",
        "total = biden + trump + undecided \n",
        "assert total==538\n",
        "\n"
      ],
      "execution_count": 46,
      "outputs": [
        {
          "output_type": "stream",
          "text": [
            "97\n"
          ],
          "name": "stdout"
        }
      ]
    },
    {
      "cell_type": "code",
      "metadata": {
        "id": "6c2qtU2FvYKF",
        "outputId": "63d94b1e-1bf8-4735-abd2-8cabacb6d3d9",
        "colab": {
          "base_uri": "https://localhost:8080/"
        }
      },
      "source": [
        "# Next ... let's write a little guy that simulated from modified state probabilities. Just ignore this if you\n",
        "# don't think there is any correlation between results at this late stage of the race. \n",
        "\n",
        "# Perhaps, however, there is some latent correlation still in the results - related to legal moves or military voting patterns or\n",
        "# consistent bias across state markets. I will merely remark that some correlation is required to make the betting markets coherent, but\n",
        "# also that this implied correlation will not necessarily be justified. \n",
        "\n",
        "def conditional(p:float,rho=None,z=None):\n",
        "  \"\"\" Simulate binary event conditioned on common factor, leaving unconditional probability alone\n",
        "       p   Unconditional probability\n",
        "       z   Gaussian common factor\n",
        "       rho Correlation\n",
        "     (this is a Normal Copula with common off-diagonal entries)\n",
        "  \"\"\"\n",
        "  if p<1e-8:\n",
        "    return 0\n",
        "  elif p>1-1e-8:\n",
        "    return 1\n",
        "  else:\n",
        "    x1 = math.sqrt(1-rho)*np.random.randn() + math.sqrt(rho)*z if z is not None else np.random.randn()\n",
        "    return x1<norm.ppf(p)\n",
        "\n",
        "\n",
        "examples = {'p_z=0':conditional(p=0.5,rho=0.5,z=0),\n",
        "            'p_z=1':conditional(p=0.5,rho=0.5,z=1)}\n",
        "pprint(examples)\n",
        "\n",
        "      "
      ],
      "execution_count": 47,
      "outputs": [
        {
          "output_type": "stream",
          "text": [
            "{'p_z=0': False, 'p_z=1': False}\n"
          ],
          "name": "stdout"
        }
      ]
    },
    {
      "cell_type": "code",
      "metadata": {
        "id": "K0hVoax4HqmM",
        "outputId": "10746af4-def9-411d-94bf-b7592dcffec5",
        "colab": {
          "base_uri": "https://localhost:8080/"
        }
      },
      "source": [
        "# A quick sanity check. The mean of the conditional draws should be the same as the original probability\n",
        "p_unconditional = 0.22\n",
        "zs = np.random.randn(10000)\n",
        "p_mean = np.mean([ conditional(p=p_unconditional, rho=.7, z=z) for z in zs])\n",
        "pprint( {'p_unconditional':p_unconditional,'mean of p_conditional':p_mean})"
      ],
      "execution_count": 48,
      "outputs": [
        {
          "output_type": "stream",
          "text": [
            "{'mean of p_conditional': 0.2188, 'p_unconditional': 0.22}\n"
          ],
          "name": "stdout"
        }
      ]
    },
    {
      "cell_type": "code",
      "metadata": {
        "id": "CAqq-B_q356F",
        "outputId": "467810bb-e99b-4e54-b210-b48e8e1311bf",
        "colab": {
          "base_uri": "https://localhost:8080/"
        }
      },
      "source": [
        "# Jolly good. Now let's use this model. \n",
        "# I've added a simple translational bias as well, if you'd rather use that to introduce correlation. \n",
        "\n",
        "BIAS = 0   # If you want to systematically translate all state probs (this is not mean preserving)\n",
        "RHO  = 0.25 # If you want correlation introduced via a Normal Copula with constant off-diagnonal terms\n",
        "\n",
        "\n",
        "def biden_sim() -> int:\n",
        "   \"\"\"\n",
        "      Simulate, once, the number of electoral college votes for Joe Biden\n",
        "   \"\"\"\n",
        "   votes = biden\n",
        "   bias = BIAS*np.random.randn() # Apply the same translation to all states\n",
        "   z = np.random.randn()         # Common latent factor capturing ... you tell me\n",
        "   for s in states:\n",
        "      p = 1/s[1] \n",
        "      conditional_p = conditional(p=p,rho=RHO,z=z)\n",
        "      shifted_p = conditional_p + BIAS\n",
        "      if np.random.rand()<shifted_p:\n",
        "           votes = votes + s[2]\n",
        "   return votes\n",
        "biden_sim()"
      ],
      "execution_count": 49,
      "outputs": [
        {
          "output_type": "execute_result",
          "data": {
            "text/plain": [
              "306"
            ]
          },
          "metadata": {
            "tags": []
          },
          "execution_count": 49
        }
      ]
    },
    {
      "cell_type": "code",
      "metadata": {
        "id": "vt0Fk_XY62Pk",
        "outputId": "4da2f132-4797-4636-a9cc-86324bab664b",
        "colab": {
          "base_uri": "https://localhost:8080/",
          "height": 332
        }
      },
      "source": [
        "# Simulate it many times\n",
        "bs = [ biden_sim() for _ in range(50000) ]\n",
        "ts = [538-b for b in bs] # Trump electoral votes \n",
        "b_win = np.mean([b>=270 for b in bs])\n",
        "print('Biden win probability is '+str(b_win))\n",
        "import matplotlib.pyplot as plt\n",
        "plt.hist(bs,bins=200)\n",
        "\n",
        "t_win = np.mean([b<=268 for b in bs ])\n",
        "tie = np.mean([b==269 for b in bs ])\n",
        "print('Trump win probability is '+str(t_win))\n",
        "print('Tie probability is '+ str(tie))\n",
        "b270 = np.mean([b==270 for b in bs])\n",
        "print('Biden=270 probability is '+str(b270))"
      ],
      "execution_count": 40,
      "outputs": [
        {
          "output_type": "stream",
          "text": [
            "Biden win probability is 0.9894\n",
            "Trump win probability is 0.00744\n",
            "Tie probability is 0.00316\n",
            "Biden=270 probability is 0.00156\n"
          ],
          "name": "stdout"
        },
        {
          "output_type": "display_data",
          "data": {
            "image/png": "[encoded data removed]",
            "text/plain": [
              "<Figure size 432x288 with 1 Axes>"
            ]
          },
          "metadata": {
            "tags": [],
            "needs_background": "light"
          }
        }
      ]
    },
    {
      "cell_type": "code",
      "metadata": {
        "id": "CawcaX9A8Oxt",
        "outputId": "e16cf939-e540-46d1-b8fe-5b8c0bb829bb",
        "colab": {
          "base_uri": "https://localhost:8080/"
        }
      },
      "source": [
        "# Compute inverse probabilities (European quoting convention) for range outcomes\n",
        "prices = {'trump_270_299':1./np.mean([t>=270 and t<=299 for t in ts]),\n",
        "          'trump_300_329':1./np.mean([t>=300 and t<=329 for t in ts]),\n",
        "          'biden_270_299':1./np.mean([b>=270 and b<=299 for b in bs]),\n",
        "          'biden_300_329':1./np.mean([b>=300 and b<=329 for b in bs]),\n",
        "          'biden_330_359':1./np.mean([b>=330 and b<=359 for b in bs]),\n",
        "          'biden_m_100.5':1./np.mean([b-t-100.5>0 for b,t in zip(bs,ts)]),\n",
        "          'biden_m_48.5':1./np.mean([b-t-48.5>0 for b,t in zip(bs,ts)])}\n",
        "pprint(prices)"
      ],
      "execution_count": 41,
      "outputs": [
        {
          "output_type": "stream",
          "text": [
            "{'biden_270_299': 3.837298541826554,\n",
            " 'biden_300_329': 1.37211855104281,\n",
            " 'biden_330_359': inf,\n",
            " 'biden_m_100.5': 7.788161993769471,\n",
            " 'biden_m_48.5': 1.1452392404773357,\n",
            " 'trump_270_299': 136.6120218579235,\n",
            " 'trump_300_329': 8333.333333333334}\n"
          ],
          "name": "stdout"
        },
        {
          "output_type": "stream",
          "text": [
            "/usr/local/lib/python3.6/dist-packages/ipykernel_launcher.py:6: RuntimeWarning: divide by zero encountered in double_scalars\n",
            "  \n"
          ],
          "name": "stderr"
        }
      ]
    },
    {
      "cell_type": "code",
      "metadata": {
        "id": "f183xGNRRCpt",
        "outputId": "216338b2-217c-462f-b373-4727218049bc",
        "colab": {
          "base_uri": "https://localhost:8080/"
        }
      },
      "source": [
        "# American quoting conventions\n",
        "def pm(p):\n",
        "   if p>0.5:\n",
        "     return '-'+str(round(100*(p/(1-p)),0))\n",
        "   else:\n",
        "     return '+'+str(round(100/p - 100,0))\n",
        "examples = {'p=0.33333':pm(0.333333),\n",
        "            'p=0.75':pm(0.75)}\n",
        "#pprint(examples)\n",
        "\n",
        "prices = {'trump_270_or_more':pm(t_win),\n",
        "          'biden_270_or_more':pm(b_win),\n",
        "          'trump_270_299':pm(np.mean([t>=270 and t<=299 for t in ts])),\n",
        "          'trump_300_329':pm(np.mean([t>=300 and t<=329 for t in ts])),\n",
        "          'biden_270_299':pm(np.mean([b>=270 and b<=299 for b in bs])),\n",
        "          'biden_300_329':pm(np.mean([b>=300 and b<=329 for b in bs]))}\n",
        "pprint(prices)"
      ],
      "execution_count": 32,
      "outputs": [
        {
          "output_type": "stream",
          "text": [
            "{'biden_270_299': '+290.0',\n",
            " 'biden_270_or_more': '-4019.0',\n",
            " 'biden_300_329': '-257.0',\n",
            " 'trump_270_299': '+5407.0',\n",
            " 'trump_270_or_more': '+5169.0',\n",
            " 'trump_300_329': '+121851.0'}\n"
          ],
          "name": "stdout"
        }
      ]
    }
  ]
}
