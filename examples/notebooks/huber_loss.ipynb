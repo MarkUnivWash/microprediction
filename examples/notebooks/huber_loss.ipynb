{
  "nbformat": 4,
  "nbformat_minor": 0,
  "metadata": {
    "colab": {
      "provenance": [],
      "authorship_tag": "ABX9TyNcY8lTmzPKxyhzrbfybBHd",
      "include_colab_link": true
    },
    "kernelspec": {
      "name": "python3",
      "display_name": "Python 3"
    },
    "language_info": {
      "name": "python"
    }
  },
  "cells": [
    {
      "cell_type": "markdown",
      "metadata": {
        "id": "view-in-github",
        "colab_type": "text"
      },
      "source": [
        "<a href=\"https://colab.research.google.com/github/microprediction/microprediction/blob/master/examples/notebooks/huber_loss.ipynb\" target=\"_parent\"><img src=\"https://colab.research.google.com/assets/colab-badge.svg\" alt=\"Open In Colab\"/></a>"
      ]
    },
    {
      "cell_type": "code",
      "execution_count": null,
      "metadata": {
        "id": "kir7F70REu0F"
      },
      "outputs": [],
      "source": [
        "!pip install --upgrade git+https://github.com/microprediction/timemachines.git\n",
        "# pip install timemachines should also be just fine ... soon. "
      ]
    },
    {
      "cell_type": "markdown",
      "source": [
        "### Huber mean of variables\n",
        "Just a little usage example of the Huber mean utility"
      ],
      "metadata": {
        "id": "DUpIIqyrEyLG"
      }
    },
    {
      "cell_type": "code",
      "source": [
        "from timemachines.skatertools.combining.hubermean import huber_mean\n",
        "import numpy as np \n",
        "from pprint import pprint\n",
        "\n",
        "xs = np.array( [ [1.0, 7.0, 3.4, 13.0],\n",
        "                  [0.8, 6.0, 3.3, 11.0],\n",
        "                  [0.85, 6.5, 3.3, 9.0]])\n",
        "\n",
        "\n",
        "pprint({'the__huber': huber_mean(xs), 'the___mean':np.mean(xs,axis=0), 'the_median':np.median(xs, axis=0)})"
      ],
      "metadata": {
        "colab": {
          "base_uri": "https://localhost:8080/"
        },
        "id": "DFvou6ZmE5ic",
        "outputId": "2c70a934-a8db-4aa9-bbc8-80bd46e4112d"
      },
      "execution_count": 8,
      "outputs": [
        {
          "output_type": "stream",
          "name": "stdout",
          "text": [
            "{'the___mean': array([ 0.88333333,  6.5       ,  3.33333333, 11.        ]),\n",
            " 'the__huber': array([ 0.88238504,  6.49575871,  3.33215908, 10.98360372]),\n",
            " 'the_median': array([ 0.85,  6.5 ,  3.3 , 11.  ])}\n"
          ]
        }
      ]
    },
    {
      "cell_type": "markdown",
      "source": [
        "As you can see this is very close to the mean in this example. But if we modify the **a** parameter there is more divergence. "
      ],
      "metadata": {
        "id": "cfwJSAynGR3Z"
      }
    },
    {
      "cell_type": "code",
      "source": [
        "pprint({'the__huber': huber_mean(xs, a=100), 'the___mean':np.mean(xs,axis=0), 'the_median':np.median(xs, axis=0)})"
      ],
      "metadata": {
        "colab": {
          "base_uri": "https://localhost:8080/"
        },
        "id": "qVH9fhKSG2DP",
        "outputId": "16452859-0012-4cb7-cda5-04d854a5a343"
      },
      "execution_count": 11,
      "outputs": [
        {
          "output_type": "stream",
          "name": "stdout",
          "text": [
            "{'the___mean': array([ 0.88333333,  6.5       ,  3.33333333, 11.        ]),\n",
            " 'the__huber': array([ 0.8384591 ,  6.75027003,  3.31207607, 12.00164856]),\n",
            " 'the_median': array([ 0.85,  6.5 ,  3.3 , 11.  ])}\n"
          ]
        }
      ]
    }
  ]
}